{
 "cells": [
  {
   "cell_type": "code",
   "execution_count": 1,
   "metadata": {},
   "outputs": [],
   "source": [
    "#Importamos librerias necesarias\n",
    "import pandas as pd\n",
    "import numpy as np\n",
    "import matplotlib.pyplot as plt\n",
    "import seaborn as sns\n",
    "import json\n",
    "import sqlalchemy\n",
    "from sqlalchemy import create_engine\n",
    "import sqlite3\n",
    "import ast\n"
   ]
  },
  {
   "cell_type": "code",
   "execution_count": 2,
   "metadata": {},
   "outputs": [
    {
     "name": "stdout",
     "output_type": "stream",
     "text": [
      "(45466, 24)\n",
      "<class 'pandas.core.frame.DataFrame'>\n",
      "RangeIndex: 45466 entries, 0 to 45465\n",
      "Data columns (total 24 columns):\n",
      " #   Column                 Non-Null Count  Dtype \n",
      "---  ------                 --------------  ----- \n",
      " 0   adult                  45466 non-null  object\n",
      " 1   belongs_to_collection  4494 non-null   object\n",
      " 2   budget                 45466 non-null  object\n",
      " 3   genres                 45466 non-null  object\n",
      " 4   homepage               7782 non-null   object\n",
      " 5   id                     45466 non-null  object\n",
      " 6   imdb_id                45449 non-null  object\n",
      " 7   original_language      45455 non-null  object\n",
      " 8   original_title         45466 non-null  object\n",
      " 9   overview               44512 non-null  object\n",
      " 10  popularity             45461 non-null  object\n",
      " 11  poster_path            45080 non-null  object\n",
      " 12  production_companies   45463 non-null  object\n",
      " 13  production_countries   45463 non-null  object\n",
      " 14  release_date           45379 non-null  object\n",
      " 15  revenue                45460 non-null  object\n",
      " 16  runtime                45203 non-null  object\n",
      " 17  spoken_languages       45460 non-null  object\n",
      " 18  status                 45379 non-null  object\n",
      " 19  tagline                20412 non-null  object\n",
      " 20  title                  45460 non-null  object\n",
      " 21  video                  45460 non-null  object\n",
      " 22  vote_average           45460 non-null  object\n",
      " 23  vote_count             45460 non-null  object\n",
      "dtypes: object(24)\n",
      "memory usage: 8.3+ MB\n",
      "None\n"
     ]
    }
   ],
   "source": [
    "# Establecemos el maximo del ancho de columnas\n",
    "pd.set_option('max_colwidth', 100)\n",
    "\n",
    "# Importa el archivo CSV a una variable\n",
    "df = pd.read_csv('Dataset/movies_dataset.csv', dtype=object)\n",
    "\n",
    "#Imprime las dimensiones del DATA FRAME\n",
    "print(df.shape)\n",
    "\n",
    "#Muestra la informacion del DATA FRAME\n",
    "print(df.info())\n"
   ]
  },
  {
   "cell_type": "code",
   "execution_count": 3,
   "metadata": {},
   "outputs": [
    {
     "name": "stdout",
     "output_type": "stream",
     "text": [
      "(45466, 18)\n",
      "<class 'pandas.core.frame.DataFrame'>\n",
      "RangeIndex: 45466 entries, 0 to 45465\n",
      "Data columns (total 18 columns):\n",
      " #   Column                 Non-Null Count  Dtype \n",
      "---  ------                 --------------  ----- \n",
      " 0   belongs_to_collection  4494 non-null   object\n",
      " 1   budget                 45466 non-null  object\n",
      " 2   genres                 45466 non-null  object\n",
      " 3   id                     45466 non-null  object\n",
      " 4   original_language      45455 non-null  object\n",
      " 5   overview               44512 non-null  object\n",
      " 6   popularity             45461 non-null  object\n",
      " 7   production_companies   45463 non-null  object\n",
      " 8   production_countries   45463 non-null  object\n",
      " 9   release_date           45379 non-null  object\n",
      " 10  revenue                45460 non-null  object\n",
      " 11  runtime                45203 non-null  object\n",
      " 12  spoken_languages       45460 non-null  object\n",
      " 13  status                 45379 non-null  object\n",
      " 14  tagline                20412 non-null  object\n",
      " 15  title                  45460 non-null  object\n",
      " 16  vote_average           45460 non-null  object\n",
      " 17  vote_count             45460 non-null  object\n",
      "dtypes: object(18)\n",
      "memory usage: 6.2+ MB\n",
      "None\n"
     ]
    }
   ],
   "source": [
    "# Eliminar las columnas que no serán utilizadas\n",
    "columns_to_drop = ['video', 'imdb_id', 'adult', 'original_title', 'poster_path', 'homepage']\n",
    "df.drop(columns=columns_to_drop, inplace=True)\n",
    "\n",
    "#Imprime las dimensiones del DATA FRAME\n",
    "print(df.shape)\n",
    "\n",
    "#Muestra la informacion del DATA FRAME\n",
    "print(df.info())"
   ]
  },
  {
   "cell_type": "code",
   "execution_count": 4,
   "metadata": {},
   "outputs": [
    {
     "name": "stdout",
     "output_type": "stream",
     "text": [
      "0              Toy Story Collection\n",
      "1                              None\n",
      "2         Grumpy Old Men Collection\n",
      "3                              None\n",
      "4    Father of the Bride Collection\n",
      "Name: belongs_to_collection, dtype: object\n"
     ]
    }
   ],
   "source": [
    "# Función para extraer el nombre de la colección\n",
    "def extract_collection_name(x):\n",
    "    if pd.notnull(x):\n",
    "        start_idx = x.find(\"'name': '\") + len(\"'name': '\")\n",
    "        end_idx = x.find(\"'\", start_idx)\n",
    "        return x[start_idx:end_idx] if start_idx > -1 and end_idx > -1 else None\n",
    "    return None\n",
    "\n",
    "# Desanidar la columna 'belongs_to_collection' y extraer el campo 'name'\n",
    "df['belongs_to_collection'] = df['belongs_to_collection'].apply(extract_collection_name)\n",
    "\n",
    "# Mostrar los primeros 5 registros para verificar los cambios\n",
    "print(df['belongs_to_collection'].head(5))\n"
   ]
  },
  {
   "cell_type": "code",
   "execution_count": 6,
   "metadata": {},
   "outputs": [],
   "source": [
    "# Guardar el DataFrame en un nuevo archivo CSV\n",
    "df.to_csv('Dataset/movies_dataset_cleaned.csv', index=False)\n"
   ]
  },
  {
   "cell_type": "code",
   "execution_count": 7,
   "metadata": {},
   "outputs": [
    {
     "name": "stdout",
     "output_type": "stream",
     "text": [
      "(45466, 18)\n",
      "<class 'pandas.core.frame.DataFrame'>\n",
      "RangeIndex: 45466 entries, 0 to 45465\n",
      "Data columns (total 18 columns):\n",
      " #   Column                 Non-Null Count  Dtype \n",
      "---  ------                 --------------  ----- \n",
      " 0   belongs_to_collection  4491 non-null   object\n",
      " 1   budget                 45466 non-null  object\n",
      " 2   genres                 45466 non-null  object\n",
      " 3   id                     45466 non-null  object\n",
      " 4   original_language      45455 non-null  object\n",
      " 5   overview               44512 non-null  object\n",
      " 6   popularity             45461 non-null  object\n",
      " 7   production_companies   45463 non-null  object\n",
      " 8   production_countries   45463 non-null  object\n",
      " 9   release_date           45379 non-null  object\n",
      " 10  revenue                45460 non-null  object\n",
      " 11  runtime                45203 non-null  object\n",
      " 12  spoken_languages       45460 non-null  object\n",
      " 13  status                 45379 non-null  object\n",
      " 14  tagline                20412 non-null  object\n",
      " 15  title                  45460 non-null  object\n",
      " 16  vote_average           45460 non-null  object\n",
      " 17  vote_count             45460 non-null  object\n",
      "dtypes: object(18)\n",
      "memory usage: 6.2+ MB\n",
      "None\n"
     ]
    }
   ],
   "source": [
    "# Establecemos el maximo del ancho de columnas\n",
    "pd.set_option('max_colwidth', 100)\n",
    "\n",
    "# Leer el archivo CSV\n",
    "df = pd.read_csv('Dataset/movies_dataset_cleaned.csv', dtype=object)\n",
    "\n",
    "#Imprime las dimensiones del DATA FRAME\n",
    "print(df.shape)\n",
    "\n",
    "#Muestra la informacion del DATA FRAME\n",
    "print(df.info())"
   ]
  },
  {
   "cell_type": "code",
   "execution_count": 8,
   "metadata": {},
   "outputs": [
    {
     "name": "stdout",
     "output_type": "stream",
     "text": [
      "0     Animation, Comedy, Family\n",
      "1    Adventure, Fantasy, Family\n",
      "2               Romance, Comedy\n",
      "3        Comedy, Drama, Romance\n",
      "4                        Comedy\n",
      "Name: genres, dtype: object\n"
     ]
    }
   ],
   "source": [
    "# Función para obtener los géneros separados por comas\n",
    "def get_genre_names(genres_list):\n",
    "    try:\n",
    "        genres = ast.literal_eval(genres_list)\n",
    "        if isinstance(genres, list):\n",
    "            return ', '.join([genre['name'] for genre in genres])\n",
    "        else:\n",
    "            return ''\n",
    "    except (SyntaxError, ValueError):\n",
    "        return ''\n",
    "\n",
    "# Aplicar la función a la columna \"genres\" para obtener los géneros separados por comas\n",
    "df['genres'] = df['genres'].apply(get_genre_names)\n",
    "\n",
    "# Mostrar los primeros 5 registros de la columna \"genres\"\n",
    "print(df['genres'].head())"
   ]
  },
  {
   "cell_type": "code",
   "execution_count": 9,
   "metadata": {},
   "outputs": [
    {
     "name": "stdout",
     "output_type": "stream",
     "text": [
      "0                                      Pixar Animation Studios\n",
      "1    TriStar Pictures, Teitler Film, Interscope Communications\n",
      "2                                 Warner Bros., Lancaster Gate\n",
      "3                       Twentieth Century Fox Film Corporation\n",
      "4                   Sandollar Productions, Touchstone Pictures\n",
      "Name: production_companies, dtype: object\n"
     ]
    }
   ],
   "source": [
    "# Función para obtener las compañías de producción separadas por comas\n",
    "def get_production_companies_names(companies_list):\n",
    "    try:\n",
    "        companies = ast.literal_eval(companies_list)\n",
    "        if isinstance(companies, list):\n",
    "            return ', '.join([company['name'] for company in companies])\n",
    "        else:\n",
    "            return ''\n",
    "    except (SyntaxError, ValueError):\n",
    "        return ''\n",
    "\n",
    "# Aplicar la función a la columna \"production_companies\" para obtener las compañías separadas por comas\n",
    "df['production_companies'] = df['production_companies'].apply(get_production_companies_names)\n",
    "\n",
    "# Mostrar los primeros 5 registros de la columna \"production_companies\"\n",
    "print(df['production_companies'].head())"
   ]
  },
  {
   "cell_type": "code",
   "execution_count": 10,
   "metadata": {},
   "outputs": [
    {
     "name": "stdout",
     "output_type": "stream",
     "text": [
      "0    United States of America\n",
      "1    United States of America\n",
      "2    United States of America\n",
      "3    United States of America\n",
      "4    United States of America\n",
      "Name: production_countries, dtype: object\n"
     ]
    }
   ],
   "source": [
    "# Función para obtener los países de producción separados por comas\n",
    "def get_production_countries_names(countries_list):\n",
    "    try:\n",
    "        countries = ast.literal_eval(countries_list)\n",
    "        if isinstance(countries, list):\n",
    "            return ', '.join([country['name'] for country in countries])\n",
    "        else:\n",
    "            return ''\n",
    "    except (SyntaxError, ValueError):\n",
    "        return ''\n",
    "\n",
    "# Aplicar la función a la columna \"production_countries\" para obtener los países separados por comas\n",
    "df['production_countries'] = df['production_countries'].apply(get_production_countries_names)\n",
    "\n",
    "# Mostrar los primeros 5 registros de la columna \"production_countries\"\n",
    "print(df['production_countries'].head())\n"
   ]
  },
  {
   "cell_type": "code",
   "execution_count": 11,
   "metadata": {},
   "outputs": [
    {
     "name": "stdout",
     "output_type": "stream",
     "text": [
      "0              English\n",
      "1    English, Français\n",
      "2              English\n",
      "3              English\n",
      "4              English\n",
      "Name: spoken_languages, dtype: object\n"
     ]
    }
   ],
   "source": [
    "# Función para obtener los idiomas hablados separados por comas\n",
    "def get_spoken_languages_names(languages_list):\n",
    "    try:\n",
    "        languages = ast.literal_eval(languages_list)\n",
    "        if isinstance(languages, list):\n",
    "            return ', '.join([language['name'] for language in languages])\n",
    "        else:\n",
    "            return ''\n",
    "    except (SyntaxError, ValueError):\n",
    "        return ''\n",
    "\n",
    "# Aplicar la función a la columna \"spoken_languages\" para obtener los idiomas separados por comas\n",
    "df['spoken_languages'] = df['spoken_languages'].apply(get_spoken_languages_names)\n",
    "\n",
    "# Mostrar los primeros 5 registros de la columna \"spoken_languages\"\n",
    "print(df['spoken_languages'].head())\n",
    "\n",
    "# Guardar el DataFrame en un nuevo CSV\n",
    "df.to_csv('Dataset/movies_dataset_cleaned.csv', index=False)\n"
   ]
  },
  {
   "cell_type": "code",
   "execution_count": 12,
   "metadata": {},
   "outputs": [
    {
     "name": "stdout",
     "output_type": "stream",
     "text": [
      "(45466, 18)\n",
      "<class 'pandas.core.frame.DataFrame'>\n",
      "RangeIndex: 45466 entries, 0 to 45465\n",
      "Data columns (total 18 columns):\n",
      " #   Column                 Non-Null Count  Dtype \n",
      "---  ------                 --------------  ----- \n",
      " 0   belongs_to_collection  4491 non-null   object\n",
      " 1   budget                 45466 non-null  object\n",
      " 2   genres                 45466 non-null  object\n",
      " 3   id                     45466 non-null  object\n",
      " 4   original_language      45455 non-null  object\n",
      " 5   overview               44512 non-null  object\n",
      " 6   popularity             45461 non-null  object\n",
      " 7   production_companies   45466 non-null  object\n",
      " 8   production_countries   45466 non-null  object\n",
      " 9   release_date           45379 non-null  object\n",
      " 10  revenue                45466 non-null  object\n",
      " 11  runtime                45203 non-null  object\n",
      " 12  spoken_languages       45466 non-null  object\n",
      " 13  status                 45379 non-null  object\n",
      " 14  tagline                20412 non-null  object\n",
      " 15  title                  45460 non-null  object\n",
      " 16  vote_average           45460 non-null  object\n",
      " 17  vote_count             45460 non-null  object\n",
      "dtypes: object(18)\n",
      "memory usage: 6.2+ MB\n",
      "None\n"
     ]
    }
   ],
   "source": [
    "# Rellenar los valores nulos de las columnas \"revenue\" y \"budget\" con 0\n",
    "df['revenue'].fillna(0, inplace=True)\n",
    "df['budget'].fillna(0, inplace=True)\n",
    "\n",
    "#Imprime las dimensiones del DATA FRAME\n",
    "print(df.shape)\n",
    "\n",
    "#Muestra la informacion del DATA FRAME\n",
    "print(df.info())\n"
   ]
  },
  {
   "cell_type": "code",
   "execution_count": 13,
   "metadata": {},
   "outputs": [
    {
     "name": "stdout",
     "output_type": "stream",
     "text": [
      "0\n",
      "0\n"
     ]
    }
   ],
   "source": [
    "# Verificar que no hay valores nulos en las columnas \"revenue\" y \"budget\"\n",
    "print(df['revenue'].isnull().sum())\n",
    "print(df['budget'].isnull().sum())"
   ]
  },
  {
   "cell_type": "code",
   "execution_count": 14,
   "metadata": {},
   "outputs": [
    {
     "name": "stdout",
     "output_type": "stream",
     "text": [
      "(45379, 18)\n"
     ]
    }
   ],
   "source": [
    "# Eliminar filas con valores nulos en la columna \"release_date\"\n",
    "df.dropna(subset=['release_date'], inplace=True)\n",
    "\n",
    "# Mostrar la forma (shape) del DataFrame después de eliminar los valores nulos en \"release_date\"\n",
    "print(df.shape)\n"
   ]
  },
  {
   "cell_type": "code",
   "execution_count": 18,
   "metadata": {},
   "outputs": [
    {
     "name": "stdout",
     "output_type": "stream",
     "text": [
      "Cantidad de registros con valor nulo en la columna 'release_date': 3\n"
     ]
    }
   ],
   "source": [
    "# Contar la cantidad de registros con valor nulo en la columna \"release_date\"\n",
    "null_release_date_count = df['release_date'].isnull().sum()\n",
    "\n",
    "# Mostrar la cantidad de registros con valor nulo\n",
    "print(\"Cantidad de registros con valor nulo en la columna 'release_date':\", null_release_date_count)\n"
   ]
  },
  {
   "cell_type": "code",
   "execution_count": 19,
   "metadata": {},
   "outputs": [
    {
     "name": "stdout",
     "output_type": "stream",
     "text": [
      "Nueva forma del DataFrame después de eliminar registros: (45376, 19)\n"
     ]
    }
   ],
   "source": [
    "# Eliminar registros con valor nulo en la columna \"release_date\"\n",
    "df = df.dropna(subset=['release_date'])\n",
    "\n",
    "# Mostrar la nueva forma del DataFrame después de eliminar los registros\n",
    "print(\"Nueva forma del DataFrame después de eliminar registros:\", df.shape)\n"
   ]
  },
  {
   "cell_type": "code",
   "execution_count": 20,
   "metadata": {},
   "outputs": [
    {
     "name": "stdout",
     "output_type": "stream",
     "text": [
      "            belongs_to_collection    budget                      genres  \\\n",
      "0            Toy Story Collection  30000000   Animation, Comedy, Family   \n",
      "1                             NaN  65000000  Adventure, Fantasy, Family   \n",
      "2       Grumpy Old Men Collection         0             Romance, Comedy   \n",
      "3                             NaN  16000000      Comedy, Drama, Romance   \n",
      "4  Father of the Bride Collection         0                      Comedy   \n",
      "\n",
      "      id original_language  \\\n",
      "0    862                en   \n",
      "1   8844                en   \n",
      "2  15602                en   \n",
      "3  31357                en   \n",
      "4  11862                en   \n",
      "\n",
      "                                                                                              overview  \\\n",
      "0  Led by Woody, Andy's toys live happily in his room until Andy's birthday brings Buzz Lightyear o...   \n",
      "1  When siblings Judy and Peter discover an enchanted board game that opens the door to a magical w...   \n",
      "2  A family wedding reignites the ancient feud between next-door neighbors and fishing buddies John...   \n",
      "3  Cheated on, mistreated and stepped on, the women are holding their breath, waiting for the elusi...   \n",
      "4  Just when George Banks has recovered from his daughter's wedding, he receives the news that she'...   \n",
      "\n",
      "  popularity                                       production_companies  \\\n",
      "0  21.946943                                    Pixar Animation Studios   \n",
      "1  17.015539  TriStar Pictures, Teitler Film, Interscope Communications   \n",
      "2    11.7129                               Warner Bros., Lancaster Gate   \n",
      "3   3.859495                     Twentieth Century Fox Film Corporation   \n",
      "4   8.387519                 Sandollar Productions, Touchstone Pictures   \n",
      "\n",
      "       production_countries release_date    revenue runtime  \\\n",
      "0  United States of America   1995-10-30  373554033    81.0   \n",
      "1  United States of America   1995-12-15  262797249   104.0   \n",
      "2  United States of America   1995-12-22          0   101.0   \n",
      "3  United States of America   1995-12-22   81452156   127.0   \n",
      "4  United States of America   1995-02-10   76578911   106.0   \n",
      "\n",
      "    spoken_languages    status  \\\n",
      "0            English  Released   \n",
      "1  English, Français  Released   \n",
      "2            English  Released   \n",
      "3            English  Released   \n",
      "4            English  Released   \n",
      "\n",
      "                                                                          tagline  \\\n",
      "0                                                                             NaN   \n",
      "1                                       Roll the dice and unleash the excitement!   \n",
      "2                            Still Yelling. Still Fighting. Still Ready for Love.   \n",
      "3  Friends are the people who let you be yourself... and never let you forget it.   \n",
      "4  Just When His World Is Back To Normal... He's In For The Surprise Of His Life!   \n",
      "\n",
      "                         title vote_average vote_count  release_year  \n",
      "0                    Toy Story          7.7       5415          1995  \n",
      "1                      Jumanji          6.9       2413          1995  \n",
      "2             Grumpier Old Men          6.5         92          1995  \n",
      "3            Waiting to Exhale          6.1         34          1995  \n",
      "4  Father of the Bride Part II          5.7        173          1995  \n"
     ]
    }
   ],
   "source": [
    "# Convertir la columna \"release_date\" al formato de fecha de pandas\n",
    "df['release_date'] = pd.to_datetime(df['release_date'], errors='coerce')\n",
    "\n",
    "# Crear la columna \"release_year\" con el año de la fecha de estreno\n",
    "df['release_year'] = df['release_date'].dt.year\n",
    "\n",
    "# Mostrar los primeros 5 registros para verificar los cambios\n",
    "print(df.head())\n"
   ]
  },
  {
   "cell_type": "code",
   "execution_count": 22,
   "metadata": {},
   "outputs": [
    {
     "name": "stdout",
     "output_type": "stream",
     "text": [
      "(45376, 20)\n"
     ]
    }
   ],
   "source": [
    "# Función para calcular el retorno de inversión\n",
    "def calculate_return(revenue, budget):\n",
    "    try:\n",
    "        revenue = float(revenue)\n",
    "        budget = float(budget)\n",
    "        if budget > 0:\n",
    "            return revenue / budget\n",
    "        else:\n",
    "            return 0\n",
    "    except (ValueError, TypeError):\n",
    "        return 0\n",
    "\n",
    "# Crear la columna \"return\" y calcular el retorno de inversión para cada película\n",
    "df['return'] = df.apply(lambda row: calculate_return(row['revenue'], row['budget']), axis=1)\n",
    "\n",
    "# Mostrar la forma (shape) del DataFrame\n",
    "print(df.shape)\n"
   ]
  },
  {
   "cell_type": "code",
   "execution_count": 23,
   "metadata": {},
   "outputs": [
    {
     "data": {
      "text/html": [
       "<div>\n",
       "<style scoped>\n",
       "    .dataframe tbody tr th:only-of-type {\n",
       "        vertical-align: middle;\n",
       "    }\n",
       "\n",
       "    .dataframe tbody tr th {\n",
       "        vertical-align: top;\n",
       "    }\n",
       "\n",
       "    .dataframe thead th {\n",
       "        text-align: right;\n",
       "    }\n",
       "</style>\n",
       "<table border=\"1\" class=\"dataframe\">\n",
       "  <thead>\n",
       "    <tr style=\"text-align: right;\">\n",
       "      <th></th>\n",
       "      <th>belongs_to_collection</th>\n",
       "      <th>budget</th>\n",
       "      <th>genres</th>\n",
       "      <th>id</th>\n",
       "      <th>original_language</th>\n",
       "      <th>overview</th>\n",
       "      <th>popularity</th>\n",
       "      <th>production_companies</th>\n",
       "      <th>production_countries</th>\n",
       "      <th>release_date</th>\n",
       "      <th>revenue</th>\n",
       "      <th>runtime</th>\n",
       "      <th>spoken_languages</th>\n",
       "      <th>status</th>\n",
       "      <th>tagline</th>\n",
       "      <th>title</th>\n",
       "      <th>vote_average</th>\n",
       "      <th>vote_count</th>\n",
       "      <th>release_year</th>\n",
       "      <th>return</th>\n",
       "    </tr>\n",
       "  </thead>\n",
       "  <tbody>\n",
       "    <tr>\n",
       "      <th>0</th>\n",
       "      <td>Toy Story Collection</td>\n",
       "      <td>30000000</td>\n",
       "      <td>Animation, Comedy, Family</td>\n",
       "      <td>862</td>\n",
       "      <td>en</td>\n",
       "      <td>Led by Woody, Andy's toys live happily in his room until Andy's birthday brings Buzz Lightyear o...</td>\n",
       "      <td>21.946943</td>\n",
       "      <td>Pixar Animation Studios</td>\n",
       "      <td>United States of America</td>\n",
       "      <td>1995-10-30</td>\n",
       "      <td>373554033</td>\n",
       "      <td>81.0</td>\n",
       "      <td>English</td>\n",
       "      <td>Released</td>\n",
       "      <td>NaN</td>\n",
       "      <td>Toy Story</td>\n",
       "      <td>7.7</td>\n",
       "      <td>5415</td>\n",
       "      <td>1995</td>\n",
       "      <td>12.451801</td>\n",
       "    </tr>\n",
       "    <tr>\n",
       "      <th>1</th>\n",
       "      <td>NaN</td>\n",
       "      <td>65000000</td>\n",
       "      <td>Adventure, Fantasy, Family</td>\n",
       "      <td>8844</td>\n",
       "      <td>en</td>\n",
       "      <td>When siblings Judy and Peter discover an enchanted board game that opens the door to a magical w...</td>\n",
       "      <td>17.015539</td>\n",
       "      <td>TriStar Pictures, Teitler Film, Interscope Communications</td>\n",
       "      <td>United States of America</td>\n",
       "      <td>1995-12-15</td>\n",
       "      <td>262797249</td>\n",
       "      <td>104.0</td>\n",
       "      <td>English, Français</td>\n",
       "      <td>Released</td>\n",
       "      <td>Roll the dice and unleash the excitement!</td>\n",
       "      <td>Jumanji</td>\n",
       "      <td>6.9</td>\n",
       "      <td>2413</td>\n",
       "      <td>1995</td>\n",
       "      <td>4.043035</td>\n",
       "    </tr>\n",
       "    <tr>\n",
       "      <th>2</th>\n",
       "      <td>Grumpy Old Men Collection</td>\n",
       "      <td>0</td>\n",
       "      <td>Romance, Comedy</td>\n",
       "      <td>15602</td>\n",
       "      <td>en</td>\n",
       "      <td>A family wedding reignites the ancient feud between next-door neighbors and fishing buddies John...</td>\n",
       "      <td>11.7129</td>\n",
       "      <td>Warner Bros., Lancaster Gate</td>\n",
       "      <td>United States of America</td>\n",
       "      <td>1995-12-22</td>\n",
       "      <td>0</td>\n",
       "      <td>101.0</td>\n",
       "      <td>English</td>\n",
       "      <td>Released</td>\n",
       "      <td>Still Yelling. Still Fighting. Still Ready for Love.</td>\n",
       "      <td>Grumpier Old Men</td>\n",
       "      <td>6.5</td>\n",
       "      <td>92</td>\n",
       "      <td>1995</td>\n",
       "      <td>0.000000</td>\n",
       "    </tr>\n",
       "    <tr>\n",
       "      <th>3</th>\n",
       "      <td>NaN</td>\n",
       "      <td>16000000</td>\n",
       "      <td>Comedy, Drama, Romance</td>\n",
       "      <td>31357</td>\n",
       "      <td>en</td>\n",
       "      <td>Cheated on, mistreated and stepped on, the women are holding their breath, waiting for the elusi...</td>\n",
       "      <td>3.859495</td>\n",
       "      <td>Twentieth Century Fox Film Corporation</td>\n",
       "      <td>United States of America</td>\n",
       "      <td>1995-12-22</td>\n",
       "      <td>81452156</td>\n",
       "      <td>127.0</td>\n",
       "      <td>English</td>\n",
       "      <td>Released</td>\n",
       "      <td>Friends are the people who let you be yourself... and never let you forget it.</td>\n",
       "      <td>Waiting to Exhale</td>\n",
       "      <td>6.1</td>\n",
       "      <td>34</td>\n",
       "      <td>1995</td>\n",
       "      <td>5.090760</td>\n",
       "    </tr>\n",
       "    <tr>\n",
       "      <th>4</th>\n",
       "      <td>Father of the Bride Collection</td>\n",
       "      <td>0</td>\n",
       "      <td>Comedy</td>\n",
       "      <td>11862</td>\n",
       "      <td>en</td>\n",
       "      <td>Just when George Banks has recovered from his daughter's wedding, he receives the news that she'...</td>\n",
       "      <td>8.387519</td>\n",
       "      <td>Sandollar Productions, Touchstone Pictures</td>\n",
       "      <td>United States of America</td>\n",
       "      <td>1995-02-10</td>\n",
       "      <td>76578911</td>\n",
       "      <td>106.0</td>\n",
       "      <td>English</td>\n",
       "      <td>Released</td>\n",
       "      <td>Just When His World Is Back To Normal... He's In For The Surprise Of His Life!</td>\n",
       "      <td>Father of the Bride Part II</td>\n",
       "      <td>5.7</td>\n",
       "      <td>173</td>\n",
       "      <td>1995</td>\n",
       "      <td>0.000000</td>\n",
       "    </tr>\n",
       "  </tbody>\n",
       "</table>\n",
       "</div>"
      ],
      "text/plain": [
       "            belongs_to_collection    budget                      genres  \\\n",
       "0            Toy Story Collection  30000000   Animation, Comedy, Family   \n",
       "1                             NaN  65000000  Adventure, Fantasy, Family   \n",
       "2       Grumpy Old Men Collection         0             Romance, Comedy   \n",
       "3                             NaN  16000000      Comedy, Drama, Romance   \n",
       "4  Father of the Bride Collection         0                      Comedy   \n",
       "\n",
       "      id original_language  \\\n",
       "0    862                en   \n",
       "1   8844                en   \n",
       "2  15602                en   \n",
       "3  31357                en   \n",
       "4  11862                en   \n",
       "\n",
       "                                                                                              overview  \\\n",
       "0  Led by Woody, Andy's toys live happily in his room until Andy's birthday brings Buzz Lightyear o...   \n",
       "1  When siblings Judy and Peter discover an enchanted board game that opens the door to a magical w...   \n",
       "2  A family wedding reignites the ancient feud between next-door neighbors and fishing buddies John...   \n",
       "3  Cheated on, mistreated and stepped on, the women are holding their breath, waiting for the elusi...   \n",
       "4  Just when George Banks has recovered from his daughter's wedding, he receives the news that she'...   \n",
       "\n",
       "  popularity                                       production_companies  \\\n",
       "0  21.946943                                    Pixar Animation Studios   \n",
       "1  17.015539  TriStar Pictures, Teitler Film, Interscope Communications   \n",
       "2    11.7129                               Warner Bros., Lancaster Gate   \n",
       "3   3.859495                     Twentieth Century Fox Film Corporation   \n",
       "4   8.387519                 Sandollar Productions, Touchstone Pictures   \n",
       "\n",
       "       production_countries release_date    revenue runtime  \\\n",
       "0  United States of America   1995-10-30  373554033    81.0   \n",
       "1  United States of America   1995-12-15  262797249   104.0   \n",
       "2  United States of America   1995-12-22          0   101.0   \n",
       "3  United States of America   1995-12-22   81452156   127.0   \n",
       "4  United States of America   1995-02-10   76578911   106.0   \n",
       "\n",
       "    spoken_languages    status  \\\n",
       "0            English  Released   \n",
       "1  English, Français  Released   \n",
       "2            English  Released   \n",
       "3            English  Released   \n",
       "4            English  Released   \n",
       "\n",
       "                                                                          tagline  \\\n",
       "0                                                                             NaN   \n",
       "1                                       Roll the dice and unleash the excitement!   \n",
       "2                            Still Yelling. Still Fighting. Still Ready for Love.   \n",
       "3  Friends are the people who let you be yourself... and never let you forget it.   \n",
       "4  Just When His World Is Back To Normal... He's In For The Surprise Of His Life!   \n",
       "\n",
       "                         title vote_average vote_count  release_year  \\\n",
       "0                    Toy Story          7.7       5415          1995   \n",
       "1                      Jumanji          6.9       2413          1995   \n",
       "2             Grumpier Old Men          6.5         92          1995   \n",
       "3            Waiting to Exhale          6.1         34          1995   \n",
       "4  Father of the Bride Part II          5.7        173          1995   \n",
       "\n",
       "      return  \n",
       "0  12.451801  \n",
       "1   4.043035  \n",
       "2   0.000000  \n",
       "3   5.090760  \n",
       "4   0.000000  "
      ]
     },
     "execution_count": 23,
     "metadata": {},
     "output_type": "execute_result"
    }
   ],
   "source": [
    "df.head(5)"
   ]
  },
  {
   "cell_type": "code",
   "execution_count": 24,
   "metadata": {},
   "outputs": [
    {
     "name": "stdout",
     "output_type": "stream",
     "text": [
      "El DataFrame se ha guardado en el archivo CSV correctamente.\n"
     ]
    }
   ],
   "source": [
    "# Guardar el DataFrame en un archivo CSV\n",
    "df.to_csv('Dataset/movies_dataset_cleaned_finish.csv', index=False)\n",
    "\n",
    "# Mostrar un mensaje de confirmación\n",
    "print(\"El DataFrame se ha guardado en el archivo CSV correctamente.\")\n"
   ]
  },
  {
   "cell_type": "code",
   "execution_count": 25,
   "metadata": {},
   "outputs": [
    {
     "name": "stdout",
     "output_type": "stream",
     "text": [
      "<class 'pandas.core.frame.DataFrame'>\n",
      "Int64Index: 45376 entries, 0 to 45465\n",
      "Data columns (total 20 columns):\n",
      " #   Column                 Non-Null Count  Dtype         \n",
      "---  ------                 --------------  -----         \n",
      " 0   belongs_to_collection  4488 non-null   object        \n",
      " 1   budget                 45376 non-null  object        \n",
      " 2   genres                 45376 non-null  object        \n",
      " 3   id                     45376 non-null  object        \n",
      " 4   original_language      45365 non-null  object        \n",
      " 5   overview               44435 non-null  object        \n",
      " 6   popularity             45376 non-null  object        \n",
      " 7   production_companies   45376 non-null  object        \n",
      " 8   production_countries   45376 non-null  object        \n",
      " 9   release_date           45376 non-null  datetime64[ns]\n",
      " 10  revenue                45376 non-null  object        \n",
      " 11  runtime                45130 non-null  object        \n",
      " 12  spoken_languages       45376 non-null  object        \n",
      " 13  status                 45296 non-null  object        \n",
      " 14  tagline                20398 non-null  object        \n",
      " 15  title                  45376 non-null  object        \n",
      " 16  vote_average           45376 non-null  object        \n",
      " 17  vote_count             45376 non-null  object        \n",
      " 18  release_year           45376 non-null  int64         \n",
      " 19  return                 45376 non-null  float64       \n",
      "dtypes: datetime64[ns](1), float64(1), int64(1), object(17)\n",
      "memory usage: 7.3+ MB\n",
      "None\n"
     ]
    }
   ],
   "source": [
    "#Muestra la informacion del DATA FRAME\n",
    "print(df.info())"
   ]
  }
 ],
 "metadata": {
  "kernelspec": {
   "display_name": "Python 3",
   "language": "python",
   "name": "python3"
  },
  "language_info": {
   "codemirror_mode": {
    "name": "ipython",
    "version": 3
   },
   "file_extension": ".py",
   "mimetype": "text/x-python",
   "name": "python",
   "nbconvert_exporter": "python",
   "pygments_lexer": "ipython3",
   "version": "3.11.2"
  },
  "orig_nbformat": 4
 },
 "nbformat": 4,
 "nbformat_minor": 2
}
