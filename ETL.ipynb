{
 "cells": [
  {
   "cell_type": "code",
   "execution_count": 2,
   "metadata": {},
   "outputs": [],
   "source": [
    "#Importamos librerias necesarias\n",
    "import pandas as pd\n",
    "import numpy as np\n",
    "import matplotlib.pyplot as plt\n",
    "import seaborn as sns\n",
    "import json\n",
    "import sqlalchemy\n",
    "from sqlalchemy import create_engine\n",
    "import sqlite3\n",
    "import ast\n"
   ]
  },
  {
   "cell_type": "code",
   "execution_count": 2,
   "metadata": {},
   "outputs": [
    {
     "name": "stdout",
     "output_type": "stream",
     "text": [
      "(45466, 24)\n",
      "<class 'pandas.core.frame.DataFrame'>\n",
      "RangeIndex: 45466 entries, 0 to 45465\n",
      "Data columns (total 24 columns):\n",
      " #   Column                 Non-Null Count  Dtype \n",
      "---  ------                 --------------  ----- \n",
      " 0   adult                  45466 non-null  object\n",
      " 1   belongs_to_collection  4494 non-null   object\n",
      " 2   budget                 45466 non-null  object\n",
      " 3   genres                 45466 non-null  object\n",
      " 4   homepage               7782 non-null   object\n",
      " 5   id                     45466 non-null  object\n",
      " 6   imdb_id                45449 non-null  object\n",
      " 7   original_language      45455 non-null  object\n",
      " 8   original_title         45466 non-null  object\n",
      " 9   overview               44512 non-null  object\n",
      " 10  popularity             45461 non-null  object\n",
      " 11  poster_path            45080 non-null  object\n",
      " 12  production_companies   45463 non-null  object\n",
      " 13  production_countries   45463 non-null  object\n",
      " 14  release_date           45379 non-null  object\n",
      " 15  revenue                45460 non-null  object\n",
      " 16  runtime                45203 non-null  object\n",
      " 17  spoken_languages       45460 non-null  object\n",
      " 18  status                 45379 non-null  object\n",
      " 19  tagline                20412 non-null  object\n",
      " 20  title                  45460 non-null  object\n",
      " 21  video                  45460 non-null  object\n",
      " 22  vote_average           45460 non-null  object\n",
      " 23  vote_count             45460 non-null  object\n",
      "dtypes: object(24)\n",
      "memory usage: 8.3+ MB\n",
      "None\n"
     ]
    }
   ],
   "source": [
    "# Establecemos el maximo del ancho de columnas\n",
    "pd.set_option('max_colwidth', 100)\n",
    "\n",
    "# Importa el archivo CSV a una variable\n",
    "df = pd.read_csv('Dataset/movies_dataset.csv', dtype=object)\n",
    "\n",
    "#Imprime las dimensiones del DATA FRAME\n",
    "print(df.shape)\n",
    "\n",
    "#Muestra la informacion del DATA FRAME\n",
    "print(df.info())\n"
   ]
  },
  {
   "cell_type": "code",
   "execution_count": 3,
   "metadata": {},
   "outputs": [
    {
     "name": "stdout",
     "output_type": "stream",
     "text": [
      "(45466, 18)\n",
      "<class 'pandas.core.frame.DataFrame'>\n",
      "RangeIndex: 45466 entries, 0 to 45465\n",
      "Data columns (total 18 columns):\n",
      " #   Column                 Non-Null Count  Dtype \n",
      "---  ------                 --------------  ----- \n",
      " 0   belongs_to_collection  4494 non-null   object\n",
      " 1   budget                 45466 non-null  object\n",
      " 2   genres                 45466 non-null  object\n",
      " 3   id                     45466 non-null  object\n",
      " 4   original_language      45455 non-null  object\n",
      " 5   overview               44512 non-null  object\n",
      " 6   popularity             45461 non-null  object\n",
      " 7   production_companies   45463 non-null  object\n",
      " 8   production_countries   45463 non-null  object\n",
      " 9   release_date           45379 non-null  object\n",
      " 10  revenue                45460 non-null  object\n",
      " 11  runtime                45203 non-null  object\n",
      " 12  spoken_languages       45460 non-null  object\n",
      " 13  status                 45379 non-null  object\n",
      " 14  tagline                20412 non-null  object\n",
      " 15  title                  45460 non-null  object\n",
      " 16  vote_average           45460 non-null  object\n",
      " 17  vote_count             45460 non-null  object\n",
      "dtypes: object(18)\n",
      "memory usage: 6.2+ MB\n",
      "None\n"
     ]
    }
   ],
   "source": [
    "# Eliminar las columnas que no serán utilizadas\n",
    "columns_to_drop = ['video', 'imdb_id', 'adult', 'original_title', 'poster_path', 'homepage']\n",
    "df.drop(columns=columns_to_drop, inplace=True)\n",
    "\n",
    "#Imprime las dimensiones del DATA FRAME\n",
    "print(df.shape)\n",
    "\n",
    "#Muestra la informacion del DATA FRAME\n",
    "print(df.info())"
   ]
  },
  {
   "cell_type": "code",
   "execution_count": 4,
   "metadata": {},
   "outputs": [
    {
     "name": "stdout",
     "output_type": "stream",
     "text": [
      "0              Toy Story Collection\n",
      "1                              None\n",
      "2         Grumpy Old Men Collection\n",
      "3                              None\n",
      "4    Father of the Bride Collection\n",
      "Name: belongs_to_collection, dtype: object\n"
     ]
    }
   ],
   "source": [
    "# Función para extraer el nombre de la colección\n",
    "def extract_collection_name(x):\n",
    "    if pd.notnull(x):\n",
    "        start_idx = x.find(\"'name': '\") + len(\"'name': '\")\n",
    "        end_idx = x.find(\"'\", start_idx)\n",
    "        return x[start_idx:end_idx] if start_idx > -1 and end_idx > -1 else None\n",
    "    return None\n",
    "\n",
    "# Desanidar la columna 'belongs_to_collection' y extraer el campo 'name'\n",
    "df['belongs_to_collection'] = df['belongs_to_collection'].apply(extract_collection_name)\n",
    "\n",
    "# Mostrar los primeros 5 registros para verificar los cambios\n",
    "print(df['belongs_to_collection'].head(5))\n"
   ]
  },
  {
   "cell_type": "code",
   "execution_count": 5,
   "metadata": {},
   "outputs": [],
   "source": [
    "# Guardar el DataFrame en un nuevo archivo CSV\n",
    "df.to_csv('Dataset/movies_dataset_cleaned.csv', index=False)\n"
   ]
  },
  {
   "cell_type": "code",
   "execution_count": 6,
   "metadata": {},
   "outputs": [
    {
     "name": "stdout",
     "output_type": "stream",
     "text": [
      "(45466, 18)\n",
      "<class 'pandas.core.frame.DataFrame'>\n",
      "RangeIndex: 45466 entries, 0 to 45465\n",
      "Data columns (total 18 columns):\n",
      " #   Column                 Non-Null Count  Dtype \n",
      "---  ------                 --------------  ----- \n",
      " 0   belongs_to_collection  4491 non-null   object\n",
      " 1   budget                 45466 non-null  object\n",
      " 2   genres                 45466 non-null  object\n",
      " 3   id                     45466 non-null  object\n",
      " 4   original_language      45455 non-null  object\n",
      " 5   overview               44512 non-null  object\n",
      " 6   popularity             45461 non-null  object\n",
      " 7   production_companies   45463 non-null  object\n",
      " 8   production_countries   45463 non-null  object\n",
      " 9   release_date           45379 non-null  object\n",
      " 10  revenue                45460 non-null  object\n",
      " 11  runtime                45203 non-null  object\n",
      " 12  spoken_languages       45460 non-null  object\n",
      " 13  status                 45379 non-null  object\n",
      " 14  tagline                20412 non-null  object\n",
      " 15  title                  45460 non-null  object\n",
      " 16  vote_average           45460 non-null  object\n",
      " 17  vote_count             45460 non-null  object\n",
      "dtypes: object(18)\n",
      "memory usage: 6.2+ MB\n",
      "None\n"
     ]
    }
   ],
   "source": [
    "# Establecemos el maximo del ancho de columnas\n",
    "pd.set_option('max_colwidth', 100)\n",
    "\n",
    "# Leer el archivo CSV\n",
    "df = pd.read_csv('Dataset/movies_dataset_cleaned.csv', dtype=object)\n",
    "\n",
    "#Imprime las dimensiones del DATA FRAME\n",
    "print(df.shape)\n",
    "\n",
    "#Muestra la informacion del DATA FRAME\n",
    "print(df.info())"
   ]
  },
  {
   "cell_type": "code",
   "execution_count": 7,
   "metadata": {},
   "outputs": [
    {
     "name": "stdout",
     "output_type": "stream",
     "text": [
      "0     Animation, Comedy, Family\n",
      "1    Adventure, Fantasy, Family\n",
      "2               Romance, Comedy\n",
      "3        Comedy, Drama, Romance\n",
      "4                        Comedy\n",
      "Name: genres, dtype: object\n"
     ]
    }
   ],
   "source": [
    "# Función para obtener los géneros separados por comas\n",
    "def get_genre_names(genres_list):\n",
    "    try:\n",
    "        genres = ast.literal_eval(genres_list)\n",
    "        if isinstance(genres, list):\n",
    "            return ', '.join([genre['name'] for genre in genres])\n",
    "        else:\n",
    "            return ''\n",
    "    except (SyntaxError, ValueError):\n",
    "        return ''\n",
    "\n",
    "# Aplicar la función a la columna \"genres\" para obtener los géneros separados por comas\n",
    "df['genres'] = df['genres'].apply(get_genre_names)\n",
    "\n",
    "# Mostrar los primeros 5 registros de la columna \"genres\"\n",
    "print(df['genres'].head())"
   ]
  },
  {
   "cell_type": "code",
   "execution_count": 8,
   "metadata": {},
   "outputs": [
    {
     "name": "stdout",
     "output_type": "stream",
     "text": [
      "0                                      Pixar Animation Studios\n",
      "1    TriStar Pictures, Teitler Film, Interscope Communications\n",
      "2                                 Warner Bros., Lancaster Gate\n",
      "3                       Twentieth Century Fox Film Corporation\n",
      "4                   Sandollar Productions, Touchstone Pictures\n",
      "Name: production_companies, dtype: object\n"
     ]
    }
   ],
   "source": [
    "# Función para obtener las compañías de producción separadas por comas\n",
    "def get_production_companies_names(companies_list):\n",
    "    try:\n",
    "        companies = ast.literal_eval(companies_list)\n",
    "        if isinstance(companies, list):\n",
    "            return ', '.join([company['name'] for company in companies])\n",
    "        else:\n",
    "            return ''\n",
    "    except (SyntaxError, ValueError):\n",
    "        return ''\n",
    "\n",
    "# Aplicar la función a la columna \"production_companies\" para obtener las compañías separadas por comas\n",
    "df['production_companies'] = df['production_companies'].apply(get_production_companies_names)\n",
    "\n",
    "# Mostrar los primeros 5 registros de la columna \"production_companies\"\n",
    "print(df['production_companies'].head())"
   ]
  },
  {
   "cell_type": "code",
   "execution_count": 9,
   "metadata": {},
   "outputs": [
    {
     "name": "stdout",
     "output_type": "stream",
     "text": [
      "0    United States of America\n",
      "1    United States of America\n",
      "2    United States of America\n",
      "3    United States of America\n",
      "4    United States of America\n",
      "Name: production_countries, dtype: object\n"
     ]
    }
   ],
   "source": [
    "# Función para obtener los países de producción separados por comas\n",
    "def get_production_countries_names(countries_list):\n",
    "    try:\n",
    "        countries = ast.literal_eval(countries_list)\n",
    "        if isinstance(countries, list):\n",
    "            return ', '.join([country['name'] for country in countries])\n",
    "        else:\n",
    "            return ''\n",
    "    except (SyntaxError, ValueError):\n",
    "        return ''\n",
    "\n",
    "# Aplicar la función a la columna \"production_countries\" para obtener los países separados por comas\n",
    "df['production_countries'] = df['production_countries'].apply(get_production_countries_names)\n",
    "\n",
    "# Mostrar los primeros 5 registros de la columna \"production_countries\"\n",
    "print(df['production_countries'].head())\n"
   ]
  },
  {
   "cell_type": "code",
   "execution_count": 10,
   "metadata": {},
   "outputs": [
    {
     "name": "stdout",
     "output_type": "stream",
     "text": [
      "0              English\n",
      "1    English, Français\n",
      "2              English\n",
      "3              English\n",
      "4              English\n",
      "Name: spoken_languages, dtype: object\n"
     ]
    }
   ],
   "source": [
    "# Función para obtener los idiomas hablados separados por comas\n",
    "def get_spoken_languages_names(languages_list):\n",
    "    try:\n",
    "        languages = ast.literal_eval(languages_list)\n",
    "        if isinstance(languages, list):\n",
    "            return ', '.join([language['name'] for language in languages])\n",
    "        else:\n",
    "            return ''\n",
    "    except (SyntaxError, ValueError):\n",
    "        return ''\n",
    "\n",
    "# Aplicar la función a la columna \"spoken_languages\" para obtener los idiomas separados por comas\n",
    "df['spoken_languages'] = df['spoken_languages'].apply(get_spoken_languages_names)\n",
    "\n",
    "# Mostrar los primeros 5 registros de la columna \"spoken_languages\"\n",
    "print(df['spoken_languages'].head())\n",
    "\n",
    "# Guardar el DataFrame en un nuevo CSV\n",
    "df.to_csv('Dataset/movies_dataset_cleaned.csv', index=False)\n"
   ]
  },
  {
   "cell_type": "code",
   "execution_count": 11,
   "metadata": {},
   "outputs": [
    {
     "name": "stdout",
     "output_type": "stream",
     "text": [
      "(45466, 18)\n",
      "<class 'pandas.core.frame.DataFrame'>\n",
      "RangeIndex: 45466 entries, 0 to 45465\n",
      "Data columns (total 18 columns):\n",
      " #   Column                 Non-Null Count  Dtype \n",
      "---  ------                 --------------  ----- \n",
      " 0   belongs_to_collection  4491 non-null   object\n",
      " 1   budget                 45466 non-null  object\n",
      " 2   genres                 43024 non-null  object\n",
      " 3   id                     45466 non-null  object\n",
      " 4   original_language      45455 non-null  object\n",
      " 5   overview               44512 non-null  object\n",
      " 6   popularity             45461 non-null  object\n",
      " 7   production_companies   33585 non-null  object\n",
      " 8   production_countries   39178 non-null  object\n",
      " 9   release_date           45379 non-null  object\n",
      " 10  revenue                45460 non-null  object\n",
      " 11  runtime                45203 non-null  object\n",
      " 12  spoken_languages       41508 non-null  object\n",
      " 13  status                 45379 non-null  object\n",
      " 14  tagline                20412 non-null  object\n",
      " 15  title                  45460 non-null  object\n",
      " 16  vote_average           45460 non-null  object\n",
      " 17  vote_count             45460 non-null  object\n",
      "dtypes: object(18)\n",
      "memory usage: 6.2+ MB\n",
      "None\n"
     ]
    }
   ],
   "source": [
    "# Importa el archivo CSV a una variable\n",
    "df = pd.read_csv('Dataset/movies_dataset_cleaned.csv', dtype=object)\n",
    "\n",
    "#Imprime las dimensiones del DATA FRAME\n",
    "print(df.shape)\n",
    "\n",
    "#Muestra la informacion del DATA FRAME\n",
    "print(df.info())"
   ]
  },
  {
   "cell_type": "code",
   "execution_count": 12,
   "metadata": {},
   "outputs": [
    {
     "name": "stdout",
     "output_type": "stream",
     "text": [
      "(45466, 18)\n",
      "<class 'pandas.core.frame.DataFrame'>\n",
      "RangeIndex: 45466 entries, 0 to 45465\n",
      "Data columns (total 18 columns):\n",
      " #   Column                 Non-Null Count  Dtype \n",
      "---  ------                 --------------  ----- \n",
      " 0   belongs_to_collection  4491 non-null   object\n",
      " 1   budget                 45466 non-null  object\n",
      " 2   genres                 43024 non-null  object\n",
      " 3   id                     45466 non-null  object\n",
      " 4   original_language      45455 non-null  object\n",
      " 5   overview               44512 non-null  object\n",
      " 6   popularity             45461 non-null  object\n",
      " 7   production_companies   33585 non-null  object\n",
      " 8   production_countries   39178 non-null  object\n",
      " 9   release_date           45379 non-null  object\n",
      " 10  revenue                45466 non-null  object\n",
      " 11  runtime                45203 non-null  object\n",
      " 12  spoken_languages       41508 non-null  object\n",
      " 13  status                 45379 non-null  object\n",
      " 14  tagline                20412 non-null  object\n",
      " 15  title                  45460 non-null  object\n",
      " 16  vote_average           45460 non-null  object\n",
      " 17  vote_count             45460 non-null  object\n",
      "dtypes: object(18)\n",
      "memory usage: 6.2+ MB\n",
      "None\n"
     ]
    }
   ],
   "source": [
    "# Rellenar los valores nulos de las columnas \"revenue\" y \"budget\" con 0\n",
    "df['revenue'].fillna(0, inplace=True)\n",
    "df['budget'].fillna(0, inplace=True)\n",
    "\n",
    "#Imprime las dimensiones del DATA FRAME\n",
    "print(df.shape)\n",
    "\n",
    "#Muestra la informacion del DATA FRAME\n",
    "print(df.info())\n"
   ]
  },
  {
   "cell_type": "code",
   "execution_count": 13,
   "metadata": {},
   "outputs": [
    {
     "name": "stdout",
     "output_type": "stream",
     "text": [
      "0\n",
      "0\n"
     ]
    }
   ],
   "source": [
    "# Verificar que no hay valores nulos en las columnas \"revenue\" y \"budget\"\n",
    "print(df['revenue'].isnull().sum())\n",
    "print(df['budget'].isnull().sum())"
   ]
  },
  {
   "cell_type": "code",
   "execution_count": 14,
   "metadata": {},
   "outputs": [
    {
     "name": "stdout",
     "output_type": "stream",
     "text": [
      "(45379, 18)\n"
     ]
    }
   ],
   "source": [
    "# Eliminar filas con valores nulos en la columna \"release_date\"\n",
    "df.dropna(subset=['release_date'], inplace=True)\n",
    "\n",
    "# Mostrar la forma (shape) del DataFrame después de eliminar los valores nulos en \"release_date\"\n",
    "print(df.shape)\n"
   ]
  },
  {
   "cell_type": "code",
   "execution_count": 15,
   "metadata": {},
   "outputs": [
    {
     "name": "stdout",
     "output_type": "stream",
     "text": [
      "Cantidad de registros con valor nulo en la columna 'release_date': 0\n"
     ]
    }
   ],
   "source": [
    "# Contar la cantidad de registros con valor nulo en la columna \"release_date\"\n",
    "null_release_date_count = df['release_date'].isnull().sum()\n",
    "\n",
    "# Mostrar la cantidad de registros con valor nulo\n",
    "print(\"Cantidad de registros con valor nulo en la columna 'release_date':\", null_release_date_count)\n"
   ]
  },
  {
   "cell_type": "code",
   "execution_count": 16,
   "metadata": {},
   "outputs": [
    {
     "name": "stdout",
     "output_type": "stream",
     "text": [
      "Nueva forma del DataFrame después de eliminar registros: (45379, 18)\n"
     ]
    }
   ],
   "source": [
    "# Eliminar registros con valor nulo en la columna \"release_date\"\n",
    "df = df.dropna(subset=['release_date'])\n",
    "\n",
    "# Mostrar la nueva forma del DataFrame después de eliminar los registros\n",
    "print(\"Nueva forma del DataFrame después de eliminar registros:\", df.shape)\n"
   ]
  },
  {
   "cell_type": "code",
   "execution_count": 17,
   "metadata": {},
   "outputs": [
    {
     "data": {
      "text/html": [
       "<div>\n",
       "<style scoped>\n",
       "    .dataframe tbody tr th:only-of-type {\n",
       "        vertical-align: middle;\n",
       "    }\n",
       "\n",
       "    .dataframe tbody tr th {\n",
       "        vertical-align: top;\n",
       "    }\n",
       "\n",
       "    .dataframe thead th {\n",
       "        text-align: right;\n",
       "    }\n",
       "</style>\n",
       "<table border=\"1\" class=\"dataframe\">\n",
       "  <thead>\n",
       "    <tr style=\"text-align: right;\">\n",
       "      <th></th>\n",
       "      <th>belongs_to_collection</th>\n",
       "      <th>budget</th>\n",
       "      <th>genres</th>\n",
       "      <th>id</th>\n",
       "      <th>original_language</th>\n",
       "      <th>overview</th>\n",
       "      <th>popularity</th>\n",
       "      <th>production_companies</th>\n",
       "      <th>production_countries</th>\n",
       "      <th>release_date</th>\n",
       "      <th>revenue</th>\n",
       "      <th>runtime</th>\n",
       "      <th>spoken_languages</th>\n",
       "      <th>status</th>\n",
       "      <th>tagline</th>\n",
       "      <th>title</th>\n",
       "      <th>vote_average</th>\n",
       "      <th>vote_count</th>\n",
       "      <th>release_year</th>\n",
       "    </tr>\n",
       "  </thead>\n",
       "  <tbody>\n",
       "    <tr>\n",
       "      <th>0</th>\n",
       "      <td>Toy Story Collection</td>\n",
       "      <td>30000000</td>\n",
       "      <td>Animation, Comedy, Family</td>\n",
       "      <td>862</td>\n",
       "      <td>en</td>\n",
       "      <td>Led by Woody, Andy's toys live happily in his room until Andy's birthday brings Buzz Lightyear o...</td>\n",
       "      <td>21.946943</td>\n",
       "      <td>Pixar Animation Studios</td>\n",
       "      <td>United States of America</td>\n",
       "      <td>1995-10-30</td>\n",
       "      <td>373554033</td>\n",
       "      <td>81.0</td>\n",
       "      <td>English</td>\n",
       "      <td>Released</td>\n",
       "      <td>NaN</td>\n",
       "      <td>Toy Story</td>\n",
       "      <td>7.7</td>\n",
       "      <td>5415</td>\n",
       "      <td>1995.0</td>\n",
       "    </tr>\n",
       "    <tr>\n",
       "      <th>1</th>\n",
       "      <td>NaN</td>\n",
       "      <td>65000000</td>\n",
       "      <td>Adventure, Fantasy, Family</td>\n",
       "      <td>8844</td>\n",
       "      <td>en</td>\n",
       "      <td>When siblings Judy and Peter discover an enchanted board game that opens the door to a magical w...</td>\n",
       "      <td>17.015539</td>\n",
       "      <td>TriStar Pictures, Teitler Film, Interscope Communications</td>\n",
       "      <td>United States of America</td>\n",
       "      <td>1995-12-15</td>\n",
       "      <td>262797249</td>\n",
       "      <td>104.0</td>\n",
       "      <td>English, Français</td>\n",
       "      <td>Released</td>\n",
       "      <td>Roll the dice and unleash the excitement!</td>\n",
       "      <td>Jumanji</td>\n",
       "      <td>6.9</td>\n",
       "      <td>2413</td>\n",
       "      <td>1995.0</td>\n",
       "    </tr>\n",
       "    <tr>\n",
       "      <th>2</th>\n",
       "      <td>Grumpy Old Men Collection</td>\n",
       "      <td>0</td>\n",
       "      <td>Romance, Comedy</td>\n",
       "      <td>15602</td>\n",
       "      <td>en</td>\n",
       "      <td>A family wedding reignites the ancient feud between next-door neighbors and fishing buddies John...</td>\n",
       "      <td>11.7129</td>\n",
       "      <td>Warner Bros., Lancaster Gate</td>\n",
       "      <td>United States of America</td>\n",
       "      <td>1995-12-22</td>\n",
       "      <td>0</td>\n",
       "      <td>101.0</td>\n",
       "      <td>English</td>\n",
       "      <td>Released</td>\n",
       "      <td>Still Yelling. Still Fighting. Still Ready for Love.</td>\n",
       "      <td>Grumpier Old Men</td>\n",
       "      <td>6.5</td>\n",
       "      <td>92</td>\n",
       "      <td>1995.0</td>\n",
       "    </tr>\n",
       "    <tr>\n",
       "      <th>3</th>\n",
       "      <td>NaN</td>\n",
       "      <td>16000000</td>\n",
       "      <td>Comedy, Drama, Romance</td>\n",
       "      <td>31357</td>\n",
       "      <td>en</td>\n",
       "      <td>Cheated on, mistreated and stepped on, the women are holding their breath, waiting for the elusi...</td>\n",
       "      <td>3.859495</td>\n",
       "      <td>Twentieth Century Fox Film Corporation</td>\n",
       "      <td>United States of America</td>\n",
       "      <td>1995-12-22</td>\n",
       "      <td>81452156</td>\n",
       "      <td>127.0</td>\n",
       "      <td>English</td>\n",
       "      <td>Released</td>\n",
       "      <td>Friends are the people who let you be yourself... and never let you forget it.</td>\n",
       "      <td>Waiting to Exhale</td>\n",
       "      <td>6.1</td>\n",
       "      <td>34</td>\n",
       "      <td>1995.0</td>\n",
       "    </tr>\n",
       "    <tr>\n",
       "      <th>4</th>\n",
       "      <td>Father of the Bride Collection</td>\n",
       "      <td>0</td>\n",
       "      <td>Comedy</td>\n",
       "      <td>11862</td>\n",
       "      <td>en</td>\n",
       "      <td>Just when George Banks has recovered from his daughter's wedding, he receives the news that she'...</td>\n",
       "      <td>8.387519</td>\n",
       "      <td>Sandollar Productions, Touchstone Pictures</td>\n",
       "      <td>United States of America</td>\n",
       "      <td>1995-02-10</td>\n",
       "      <td>76578911</td>\n",
       "      <td>106.0</td>\n",
       "      <td>English</td>\n",
       "      <td>Released</td>\n",
       "      <td>Just When His World Is Back To Normal... He's In For The Surprise Of His Life!</td>\n",
       "      <td>Father of the Bride Part II</td>\n",
       "      <td>5.7</td>\n",
       "      <td>173</td>\n",
       "      <td>1995.0</td>\n",
       "    </tr>\n",
       "  </tbody>\n",
       "</table>\n",
       "</div>"
      ],
      "text/plain": [
       "            belongs_to_collection    budget                      genres  \\\n",
       "0            Toy Story Collection  30000000   Animation, Comedy, Family   \n",
       "1                             NaN  65000000  Adventure, Fantasy, Family   \n",
       "2       Grumpy Old Men Collection         0             Romance, Comedy   \n",
       "3                             NaN  16000000      Comedy, Drama, Romance   \n",
       "4  Father of the Bride Collection         0                      Comedy   \n",
       "\n",
       "      id original_language  \\\n",
       "0    862                en   \n",
       "1   8844                en   \n",
       "2  15602                en   \n",
       "3  31357                en   \n",
       "4  11862                en   \n",
       "\n",
       "                                                                                              overview  \\\n",
       "0  Led by Woody, Andy's toys live happily in his room until Andy's birthday brings Buzz Lightyear o...   \n",
       "1  When siblings Judy and Peter discover an enchanted board game that opens the door to a magical w...   \n",
       "2  A family wedding reignites the ancient feud between next-door neighbors and fishing buddies John...   \n",
       "3  Cheated on, mistreated and stepped on, the women are holding their breath, waiting for the elusi...   \n",
       "4  Just when George Banks has recovered from his daughter's wedding, he receives the news that she'...   \n",
       "\n",
       "  popularity                                       production_companies  \\\n",
       "0  21.946943                                    Pixar Animation Studios   \n",
       "1  17.015539  TriStar Pictures, Teitler Film, Interscope Communications   \n",
       "2    11.7129                               Warner Bros., Lancaster Gate   \n",
       "3   3.859495                     Twentieth Century Fox Film Corporation   \n",
       "4   8.387519                 Sandollar Productions, Touchstone Pictures   \n",
       "\n",
       "       production_countries release_date    revenue runtime  \\\n",
       "0  United States of America   1995-10-30  373554033    81.0   \n",
       "1  United States of America   1995-12-15  262797249   104.0   \n",
       "2  United States of America   1995-12-22          0   101.0   \n",
       "3  United States of America   1995-12-22   81452156   127.0   \n",
       "4  United States of America   1995-02-10   76578911   106.0   \n",
       "\n",
       "    spoken_languages    status  \\\n",
       "0            English  Released   \n",
       "1  English, Français  Released   \n",
       "2            English  Released   \n",
       "3            English  Released   \n",
       "4            English  Released   \n",
       "\n",
       "                                                                          tagline  \\\n",
       "0                                                                             NaN   \n",
       "1                                       Roll the dice and unleash the excitement!   \n",
       "2                            Still Yelling. Still Fighting. Still Ready for Love.   \n",
       "3  Friends are the people who let you be yourself... and never let you forget it.   \n",
       "4  Just When His World Is Back To Normal... He's In For The Surprise Of His Life!   \n",
       "\n",
       "                         title vote_average vote_count  release_year  \n",
       "0                    Toy Story          7.7       5415        1995.0  \n",
       "1                      Jumanji          6.9       2413        1995.0  \n",
       "2             Grumpier Old Men          6.5         92        1995.0  \n",
       "3            Waiting to Exhale          6.1         34        1995.0  \n",
       "4  Father of the Bride Part II          5.7        173        1995.0  "
      ]
     },
     "execution_count": 17,
     "metadata": {},
     "output_type": "execute_result"
    }
   ],
   "source": [
    "# Convertir la columna \"release_date\" al formato de fecha de pandas\n",
    "df['release_date'] = pd.to_datetime(df['release_date'], errors='coerce')\n",
    "\n",
    "# Crear la columna \"release_year\" con el año de la fecha de estreno\n",
    "df['release_year'] = df['release_date'].dt.year\n",
    "\n",
    "# Mostrar los primeros 5 registros para verificar los cambios\n",
    "df.head()\n"
   ]
  },
  {
   "cell_type": "code",
   "execution_count": 18,
   "metadata": {},
   "outputs": [
    {
     "name": "stdout",
     "output_type": "stream",
     "text": [
      "(45379, 20)\n"
     ]
    }
   ],
   "source": [
    "# Función para calcular el retorno de inversión\n",
    "def calculate_return(revenue, budget):\n",
    "    try:\n",
    "        revenue = float(revenue)\n",
    "        budget = float(budget)\n",
    "        if budget > 0:\n",
    "            return revenue / budget\n",
    "        else:\n",
    "            return 0\n",
    "    except (ValueError, TypeError):\n",
    "        return 0\n",
    "\n",
    "# Crear la columna \"return\" y calcular el retorno de inversión para cada película\n",
    "df['return'] = df.apply(lambda row: calculate_return(row['revenue'], row['budget']), axis=1)\n",
    "\n",
    "# Mostrar la forma (shape) del DataFrame\n",
    "print(df.shape)\n"
   ]
  },
  {
   "cell_type": "code",
   "execution_count": 19,
   "metadata": {},
   "outputs": [
    {
     "name": "stdout",
     "output_type": "stream",
     "text": [
      "El DataFrame se ha guardado en el archivo CSV correctamente.\n"
     ]
    }
   ],
   "source": [
    "# Guardar el DataFrame en un archivo CSV\n",
    "df.to_csv('Dataset/movies_dataset_cleaned_finish.csv', index=False)\n",
    "\n",
    "# Mostrar un mensaje de confirmación\n",
    "print(\"El DataFrame se ha guardado en el archivo CSV correctamente.\")\n"
   ]
  },
  {
   "cell_type": "code",
   "execution_count": 20,
   "metadata": {},
   "outputs": [
    {
     "name": "stdout",
     "output_type": "stream",
     "text": [
      "<class 'pandas.core.frame.DataFrame'>\n",
      "Int64Index: 45379 entries, 0 to 45465\n",
      "Data columns (total 20 columns):\n",
      " #   Column                 Non-Null Count  Dtype         \n",
      "---  ------                 --------------  -----         \n",
      " 0   belongs_to_collection  4488 non-null   object        \n",
      " 1   budget                 45379 non-null  object        \n",
      " 2   genres                 42995 non-null  object        \n",
      " 3   id                     45379 non-null  object        \n",
      " 4   original_language      45368 non-null  object        \n",
      " 5   overview               44438 non-null  object        \n",
      " 6   popularity             45377 non-null  object        \n",
      " 7   production_companies   33580 non-null  object        \n",
      " 8   production_countries   39165 non-null  object        \n",
      " 9   release_date           45376 non-null  datetime64[ns]\n",
      " 10  revenue                45379 non-null  object        \n",
      " 11  runtime                45130 non-null  object        \n",
      " 12  spoken_languages       41485 non-null  object        \n",
      " 13  status                 45296 non-null  object        \n",
      " 14  tagline                20398 non-null  object        \n",
      " 15  title                  45376 non-null  object        \n",
      " 16  vote_average           45376 non-null  object        \n",
      " 17  vote_count             45376 non-null  object        \n",
      " 18  release_year           45376 non-null  float64       \n",
      " 19  return                 45379 non-null  float64       \n",
      "dtypes: datetime64[ns](1), float64(2), object(17)\n",
      "memory usage: 7.3+ MB\n",
      "None\n"
     ]
    }
   ],
   "source": [
    "#Muestra la informacion del DATA FRAME\n",
    "print(df.info())"
   ]
  },
  {
   "cell_type": "code",
   "execution_count": 21,
   "metadata": {},
   "outputs": [
    {
     "name": "stdout",
     "output_type": "stream",
     "text": [
      "(45379, 20)\n",
      "<class 'pandas.core.frame.DataFrame'>\n",
      "RangeIndex: 45379 entries, 0 to 45378\n",
      "Data columns (total 20 columns):\n",
      " #   Column                 Non-Null Count  Dtype \n",
      "---  ------                 --------------  ----- \n",
      " 0   belongs_to_collection  4488 non-null   object\n",
      " 1   budget                 45379 non-null  object\n",
      " 2   genres                 42995 non-null  object\n",
      " 3   id                     45379 non-null  object\n",
      " 4   original_language      45368 non-null  object\n",
      " 5   overview               44438 non-null  object\n",
      " 6   popularity             45377 non-null  object\n",
      " 7   production_companies   33580 non-null  object\n",
      " 8   production_countries   39165 non-null  object\n",
      " 9   release_date           45376 non-null  object\n",
      " 10  revenue                45379 non-null  object\n",
      " 11  runtime                45130 non-null  object\n",
      " 12  spoken_languages       41485 non-null  object\n",
      " 13  status                 45296 non-null  object\n",
      " 14  tagline                20398 non-null  object\n",
      " 15  title                  45376 non-null  object\n",
      " 16  vote_average           45376 non-null  object\n",
      " 17  vote_count             45376 non-null  object\n",
      " 18  release_year           45376 non-null  object\n",
      " 19  return                 45379 non-null  object\n",
      "dtypes: object(20)\n",
      "memory usage: 6.9+ MB\n",
      "None\n"
     ]
    }
   ],
   "source": [
    "# Importa el archivo CSV a una variable\n",
    "df = pd.read_csv('Dataset/movies_dataset_cleaned_finish.csv', dtype=object)\n",
    "\n",
    "#Imprime las dimensiones del DATA FRAME\n",
    "print(df.shape)\n",
    "\n",
    "#Muestra la informacion del DATA FRAME\n",
    "print(df.info())\n"
   ]
  },
  {
   "cell_type": "code",
   "execution_count": 22,
   "metadata": {},
   "outputs": [
    {
     "name": "stdout",
     "output_type": "stream",
     "text": [
      "belongs_to_collection      0\n",
      "budget                     0\n",
      "genres                     0\n",
      "id                         0\n",
      "original_language          0\n",
      "overview                   0\n",
      "popularity                 2\n",
      "production_companies       0\n",
      "production_countries       0\n",
      "release_date               3\n",
      "revenue                    0\n",
      "runtime                  249\n",
      "spoken_languages           0\n",
      "status                     0\n",
      "tagline                    0\n",
      "title                      3\n",
      "vote_average               3\n",
      "vote_count                 3\n",
      "release_year               3\n",
      "return                     0\n",
      "dtype: int64\n"
     ]
    }
   ],
   "source": [
    "# Cambiar valores nulos en las columnas\n",
    "columns_to_clean = ['belongs_to_collection', 'genres', 'original_language', 'overview', 'production_companies',\n",
    "                    'production_countries', 'spoken_languages', 'status', 'tagline']\n",
    "\n",
    "for column in columns_to_clean:\n",
    "    if column == 'runtime':\n",
    "        df[column].fillna(0, inplace=True)\n",
    "    else:\n",
    "        df[column].fillna('undefined', inplace=True)\n",
    "\n",
    "# Verificar el resultado\n",
    "missing_values = df.isnull().sum()\n",
    "print(missing_values)\n"
   ]
  },
  {
   "cell_type": "code",
   "execution_count": 23,
   "metadata": {},
   "outputs": [
    {
     "name": "stdout",
     "output_type": "stream",
     "text": [
      "0         81.0\n",
      "1        104.0\n",
      "2        101.0\n",
      "3        127.0\n",
      "4        106.0\n",
      "         ...  \n",
      "45374    104.0\n",
      "45375    360.0\n",
      "45376     90.0\n",
      "45377     87.0\n",
      "45378     75.0\n",
      "Name: runtime, Length: 45379, dtype: float64\n"
     ]
    }
   ],
   "source": [
    "# Convertir valores no numéricos o nulos en la columna \"runtime\" a 0\n",
    "df['runtime'] = pd.to_numeric(df['runtime'], errors='coerce')\n",
    "df['runtime'].fillna(0, inplace=True)\n",
    "\n",
    "# Verificar el resultado\n",
    "print(df['runtime'])"
   ]
  },
  {
   "cell_type": "code",
   "execution_count": 24,
   "metadata": {},
   "outputs": [
    {
     "name": "stdout",
     "output_type": "stream",
     "text": [
      "0        21.946943\n",
      "1        17.015539\n",
      "2        11.712900\n",
      "3         3.859495\n",
      "4         8.387519\n",
      "           ...    \n",
      "45374     5.683753\n",
      "45375     0.178241\n",
      "45376     0.903007\n",
      "45377     0.003503\n",
      "45378     0.163015\n",
      "Name: popularity, Length: 45379, dtype: float64\n"
     ]
    }
   ],
   "source": [
    "# Convertir valores no numéricos o nulos en la columna \"popularity\" a 0\n",
    "df['popularity'] = pd.to_numeric(df['popularity'], errors='coerce')\n",
    "df['popularity'].fillna(0, inplace=True)\n",
    "\n",
    "# Verificar el resultado\n",
    "print(df['popularity'])"
   ]
  },
  {
   "cell_type": "code",
   "execution_count": 25,
   "metadata": {},
   "outputs": [
    {
     "name": "stdout",
     "output_type": "stream",
     "text": [
      "release_date    3\n",
      "title           3\n",
      "vote_average    3\n",
      "vote_count      3\n",
      "release_year    3\n",
      "dtype: int64\n"
     ]
    }
   ],
   "source": [
    "# Verificar columnas con valores nulos o vacíos\n",
    "null_columns = df.columns[df.isnull().any()]\n",
    "print(df[null_columns].isnull().sum())\n"
   ]
  },
  {
   "cell_type": "code",
   "execution_count": 26,
   "metadata": {},
   "outputs": [
    {
     "name": "stdout",
     "output_type": "stream",
     "text": [
      "El DataFrame se ha guardado en el archivo CSV correctamente.\n"
     ]
    }
   ],
   "source": [
    "# Guardar el DataFrame en un archivo CSV\n",
    "df.to_csv('Dataset/movies_dataset_cleaned_finish.csv', index=False)\n",
    "\n",
    "# Mostrar un mensaje de confirmación\n",
    "print(\"El DataFrame se ha guardado en el archivo CSV correctamente.\")"
   ]
  },
  {
   "cell_type": "code",
   "execution_count": 2,
   "metadata": {},
   "outputs": [
    {
     "ename": "NameError",
     "evalue": "name 'pd' is not defined",
     "output_type": "error",
     "traceback": [
      "\u001b[1;31m---------------------------------------------------------------------------\u001b[0m",
      "\u001b[1;31mNameError\u001b[0m                                 Traceback (most recent call last)",
      "Cell \u001b[1;32mIn[2], line 2\u001b[0m\n\u001b[0;32m      1\u001b[0m \u001b[39m# Importa el archivo CSV a una variable\u001b[39;00m\n\u001b[1;32m----> 2\u001b[0m df \u001b[39m=\u001b[39m pd\u001b[39m.\u001b[39mread_csv(\u001b[39m'\u001b[39m\u001b[39mDataset/movies_dataset_cleaned_finish.csv\u001b[39m\u001b[39m'\u001b[39m, dtype\u001b[39m=\u001b[39m\u001b[39mobject\u001b[39m)\n\u001b[0;32m      4\u001b[0m \u001b[39m#Imprime las dimensiones del DATA FRAME\u001b[39;00m\n\u001b[0;32m      5\u001b[0m \u001b[39mprint\u001b[39m(df\u001b[39m.\u001b[39mshape)\n",
      "\u001b[1;31mNameError\u001b[0m: name 'pd' is not defined"
     ]
    }
   ],
   "source": [
    "# Importa el archivo CSV a una variable\n",
    "df = pd.read_csv('Dataset/movies_dataset_cleaned_finish.csv', dtype=object)\n",
    "\n",
    "#Imprime las dimensiones del DATA FRAME\n",
    "print(df.shape)\n",
    "\n",
    "#Muestra la informacion del DATA FRAME\n",
    "print(df.info())"
   ]
  },
  {
   "cell_type": "code",
   "execution_count": 28,
   "metadata": {},
   "outputs": [
    {
     "data": {
      "text/plain": [
       "'#cambiamos los idiomas con valores no ASCII por sus versiones en Ingles\\n\\n# Lista de traducciones de idiomas\\nspecial_characters_translation = {\\n    \\'Slovenčina\\': \\'Slovak\\',\\n    \\'پښتو\\': \\'Pashto\\',\\n    \\'न\\': \\'Nepali\\',\\n    \\'日本語\\': \\'Japanese\\',\\n    \\'ह\\': \\'Hindi\\',\\n    \\'Tiếng\\': \\'Vietnamese\\',\\n    \\'ਪ\\': \\'Punjabi\\',\\n    \\'ελληνικά\\': \\'Greek\\',\\n    \\'தம\\': \\'Tamil\\',\\n    \\'فارسی\\': \\'Persian\\',\\n    \\'العربية\\': \\'Arabic\\',\\n    \\'Türkçe\\': \\'Turkish\\',\\n    \\'Latviešu\\': \\'Latvian\\',\\n    \\'ב\\': \\'Hebrew\\',\\n    \\'ব\\': \\'Bengali\\',\\n    \\'조선말\\': \\'Korean\\',\\n    \\'廣州話\\': \\'Cantonese\\',\\n    \\'普通话\\': \\'Mandarin\\',\\n    \\'език\\': \\'Bulgarian\\',\\n    \\'Azərbaycan\\': \\'Azerbaijani\\',\\n    \\'Español\\': \\'Spanish\\',\\n    \\'Việt\\': \\'Vietnamese\\',\\n    \\'ழ\\': \\'Sinhalese\\',\\n    \\'한국어\\': \\'Korean\\',\\n    \\'български\\': \\'Bulgarian\\',\\n    \\'త\\': \\'Telugu\\',\\n    \\'Pусский\\': \\'Russian\\',\\n    \\'мова\\': \\'Ukrainian\\',\\n    \\'ਜ\\': \\'Urdu\\',\\n    \\'Український\\': \\'Ukrainian\\',\\n    \\'Český\\': \\'Czech\\',\\n    \\'Bokmål\\': \\'Norwegian Bokmål\\',\\n    \\'ল\\': \\'Bengali\\',\\n    \\'اردو\\': \\'Urdu\\',\\n    \\'ע\\': \\'Yiddish\\',\\n    \\'Português\\': \\'Portuguese\\',\\n    \\'ר\\': \\'Hebrew\\',\\n    \\'Íslenska\\': \\'Icelandic\\',\\n    \\'беларуская\\': \\'Belarusian\\',\\n    \\'қазақ\\': \\'Kazakh\\',\\n    \\'ਬ\\': \\'Punjabi\\',\\n    \\'Slovenščina\\': \\'Slovenian\\',\\n    \\'Català\\': \\'Catalan\\',\\n    \\'广州话\\': \\'Cantonese\\',\\n    \\'గ\\': \\'Telugu\\',\\n    \\'Română\\': \\'Romanian\\',\\n    \\'ית\\': \\'Yiddish\\',\\n    \\'ల\\': \\'Telugu\\',\\n    \\'ქართული\\': \\'Georgian\\',\\n    \\'ภาษาไทย\\': \\'Thai\\',\\n    \\'Français\\': \\'French\\',\\n    \\'द\\': \\'Nepali\\'\\n}\\n\\n# Función para reemplazar idiomas con caracteres especiales por sus versiones en inglés\\ndef replace_special_characters_languages(languages_list):\\n    languages = languages_list.split(\\', \\')\\n    for i, language in enumerate(languages):\\n        if language in special_characters_translation:\\n            languages[i] = special_characters_translation[language]\\n    return \\', \\'.join(languages)\\n\\n# Aplicar la función a la columna \"spoken_languages\"\\ndf[\\'spoken_languages\\'] = df[\\'spoken_languages\\'].apply(replace_special_characters_languages)\\n\\n# Mostrar las primeras 10 filas para verificar\\nprint(df[\\'spoken_languages\\'].head(10))'"
      ]
     },
     "execution_count": 28,
     "metadata": {},
     "output_type": "execute_result"
    }
   ],
   "source": [
    "\"\"\"#cambiamos los idiomas con valores no ASCII por sus versiones en Ingles\n",
    "\n",
    "# Lista de traducciones de idiomas\n",
    "special_characters_translation = {\n",
    "    'Slovenčina': 'Slovak',\n",
    "    'پښتو': 'Pashto',\n",
    "    'न': 'Nepali',\n",
    "    '日本語': 'Japanese',\n",
    "    'ह': 'Hindi',\n",
    "    'Tiếng': 'Vietnamese',\n",
    "    'ਪ': 'Punjabi',\n",
    "    'ελληνικά': 'Greek',\n",
    "    'தம': 'Tamil',\n",
    "    'فارسی': 'Persian',\n",
    "    'العربية': 'Arabic',\n",
    "    'Türkçe': 'Turkish',\n",
    "    'Latviešu': 'Latvian',\n",
    "    'ב': 'Hebrew',\n",
    "    'ব': 'Bengali',\n",
    "    '조선말': 'Korean',\n",
    "    '廣州話': 'Cantonese',\n",
    "    '普通话': 'Mandarin',\n",
    "    'език': 'Bulgarian',\n",
    "    'Azərbaycan': 'Azerbaijani',\n",
    "    'Español': 'Spanish',\n",
    "    'Việt': 'Vietnamese',\n",
    "    'ழ': 'Sinhalese',\n",
    "    '한국어': 'Korean',\n",
    "    'български': 'Bulgarian',\n",
    "    'త': 'Telugu',\n",
    "    'Pусский': 'Russian',\n",
    "    'мова': 'Ukrainian',\n",
    "    'ਜ': 'Urdu',\n",
    "    'Український': 'Ukrainian',\n",
    "    'Český': 'Czech',\n",
    "    'Bokmål': 'Norwegian Bokmål',\n",
    "    'ল': 'Bengali',\n",
    "    'اردو': 'Urdu',\n",
    "    'ע': 'Yiddish',\n",
    "    'Português': 'Portuguese',\n",
    "    'ר': 'Hebrew',\n",
    "    'Íslenska': 'Icelandic',\n",
    "    'беларуская': 'Belarusian',\n",
    "    'қазақ': 'Kazakh',\n",
    "    'ਬ': 'Punjabi',\n",
    "    'Slovenščina': 'Slovenian',\n",
    "    'Català': 'Catalan',\n",
    "    '广州话': 'Cantonese',\n",
    "    'గ': 'Telugu',\n",
    "    'Română': 'Romanian',\n",
    "    'ית': 'Yiddish',\n",
    "    'ల': 'Telugu',\n",
    "    'ქართული': 'Georgian',\n",
    "    'ภาษาไทย': 'Thai',\n",
    "    'Français': 'French',\n",
    "    'द': 'Nepali'\n",
    "}\n",
    "\n",
    "# Función para reemplazar idiomas con caracteres especiales por sus versiones en inglés\n",
    "def replace_special_characters_languages(languages_list):\n",
    "    languages = languages_list.split(', ')\n",
    "    for i, language in enumerate(languages):\n",
    "        if language in special_characters_translation:\n",
    "            languages[i] = special_characters_translation[language]\n",
    "    return ', '.join(languages)\n",
    "\n",
    "# Aplicar la función a la columna \"spoken_languages\"\n",
    "df['spoken_languages'] = df['spoken_languages'].apply(replace_special_characters_languages)\n",
    "\n",
    "# Mostrar las primeras 10 filas para verificar\n",
    "print(df['spoken_languages'].head(10))\"\"\"\n"
   ]
  },
  {
   "cell_type": "code",
   "execution_count": 29,
   "metadata": {},
   "outputs": [
    {
     "data": {
      "text/plain": [
       "'# Lista de traducciones de idiomas\\nspecial_characters_translation = {\\n    \\'беларуская мова\\': \\'Belarusian\\',\\n    \\'български език\\': \\'Bulgarian\\',\\n    \\'עִבְרִית\\': \\'Hebrew\\',\\n    \\'हिन्दी\\': \\'Hindi\\',\\n    \\'বাংলা\\': \\'Bengali\\',\\n    \\'ਪੰਜਾਬੀ\\': \\'Punjabi\\',\\n    \\'தமிழ்\\': \\'Tamil\\',\\n    \\'తెలుగు\\': \\'Telugu\\',\\n    \\'广州话 / 廣州話\\': \\'Cantonese\\',\\n    \\'한국어/조선말\\': \\'Korean\\',\\n    \\'?????\\': \\'Undefined\\',  # Reemplazar por \\'Undefined\\'\\n    \\'??????\\': \\'Undefined\\',  # Reemplazar por \\'Undefined\\'\\n    \\'No Language\\': \\'Undefined\\',  # Reemplazar por \\'Undefined\\'\\n    \\' \\': \\'Undefined\\'  # Reemplazar espacios en blanco por \\'Undefined\\'\\n}\\n\\n# Función para reemplazar idiomas con caracteres especiales por sus versiones en inglés\\ndef replace_special_characters_languages(languages_list):\\n    languages = languages_list.split(\\', \\')\\n    for i, language in enumerate(languages):\\n        if language in special_characters_translation:\\n            languages[i] = special_characters_translation[language]\\n    return \\', \\'.join(languages)\\n\\n# Aplicar la función a la columna \"spoken_languages\"\\ndf[\\'spoken_languages\\'] = df[\\'spoken_languages\\'].apply(replace_special_characters_languages)\\n\\n# Mostrar las primeras 10 filas para verificar\\nprint(df[\\'spoken_languages\\'].head(10))'"
      ]
     },
     "execution_count": 29,
     "metadata": {},
     "output_type": "execute_result"
    }
   ],
   "source": [
    "\"\"\"# Lista de traducciones de idiomas\n",
    "special_characters_translation = {\n",
    "    'беларуская мова': 'Belarusian',\n",
    "    'български език': 'Bulgarian',\n",
    "    'עִבְרִית': 'Hebrew',\n",
    "    'हिन्दी': 'Hindi',\n",
    "    'বাংলা': 'Bengali',\n",
    "    'ਪੰਜਾਬੀ': 'Punjabi',\n",
    "    'தமிழ்': 'Tamil',\n",
    "    'తెలుగు': 'Telugu',\n",
    "    '广州话 / 廣州話': 'Cantonese',\n",
    "    '한국어/조선말': 'Korean',\n",
    "    '?????': 'Undefined',  # Reemplazar por 'Undefined'\n",
    "    '??????': 'Undefined',  # Reemplazar por 'Undefined'\n",
    "    'No Language': 'Undefined',  # Reemplazar por 'Undefined'\n",
    "    ' ': 'Undefined'  # Reemplazar espacios en blanco por 'Undefined'\n",
    "}\n",
    "\n",
    "# Función para reemplazar idiomas con caracteres especiales por sus versiones en inglés\n",
    "def replace_special_characters_languages(languages_list):\n",
    "    languages = languages_list.split(', ')\n",
    "    for i, language in enumerate(languages):\n",
    "        if language in special_characters_translation:\n",
    "            languages[i] = special_characters_translation[language]\n",
    "    return ', '.join(languages)\n",
    "\n",
    "# Aplicar la función a la columna \"spoken_languages\"\n",
    "df['spoken_languages'] = df['spoken_languages'].apply(replace_special_characters_languages)\n",
    "\n",
    "# Mostrar las primeras 10 filas para verificar\n",
    "print(df['spoken_languages'].head(10))\"\"\""
   ]
  },
  {
   "cell_type": "code",
   "execution_count": 30,
   "metadata": {},
   "outputs": [
    {
     "data": {
      "text/plain": [
       "'# Lista de idiomas originales\\noriginal_languages = [\\n    \\'беларуская мова\\', \\n    \\'български език\\', \\n    \\'עִבְרִית\\', \\n    \\'हिन्दी\\', \\n    \\'বাংলা\\', \\n    \\'ਪੰਜਾਬੀ\\', \\n    \\'தமிழ்\\', \\n    \\'తెలుగు\\', \\n    \\'广州话 / 廣州話\\', \\n    \\'한국어/조선말\\', \\n    \\'?????\\', \\n    \\'??????\\', \\n    \\'No Language\\', \\n    \\' \\'  # Espacio en blanco\\n]\\n\\n# Verificar si los valores originales aparecen en la columna \"spoken_languages\"\\nfor language in original_languages:\\n    if any(df[\\'spoken_languages\\'].str.contains(language)):\\n        print(f\"El idioma original \\'{language}\\' aparece en la columna \\'spoken_languages\\'.\")'"
      ]
     },
     "execution_count": 30,
     "metadata": {},
     "output_type": "execute_result"
    }
   ],
   "source": [
    "\"\"\"# Lista de idiomas originales\n",
    "original_languages = [\n",
    "    'беларуская мова', \n",
    "    'български език', \n",
    "    'עִבְרִית', \n",
    "    'हिन्दी', \n",
    "    'বাংলা', \n",
    "    'ਪੰਜਾਬੀ', \n",
    "    'தமிழ்', \n",
    "    'తెలుగు', \n",
    "    '广州话 / 廣州話', \n",
    "    '한국어/조선말', \n",
    "    '?????', \n",
    "    '??????', \n",
    "    'No Language', \n",
    "    ' '  # Espacio en blanco\n",
    "]\n",
    "\n",
    "# Verificar si los valores originales aparecen en la columna \"spoken_languages\"\n",
    "for language in original_languages:\n",
    "    if any(df['spoken_languages'].str.contains(language)):\n",
    "        print(f\"El idioma original '{language}' aparece en la columna 'spoken_languages'.\")\"\"\"\n"
   ]
  },
  {
   "cell_type": "code",
   "execution_count": 31,
   "metadata": {},
   "outputs": [
    {
     "name": "stdout",
     "output_type": "stream",
     "text": [
      "El DataFrame se ha guardado en el archivo CSV correctamente.\n"
     ]
    }
   ],
   "source": [
    "# Guardar el DataFrame en un archivo CSV, sobrescribiendo si existe\n",
    "df.to_csv('Dataset/movies_dataset_cleaned_finish.csv', index=False)\n",
    "\n",
    "# Mostrar un mensaje de confirmación\n",
    "print(\"El DataFrame se ha guardado en el archivo CSV correctamente.\")\n"
   ]
  },
  {
   "cell_type": "code",
   "execution_count": 32,
   "metadata": {},
   "outputs": [
    {
     "data": {
      "text/plain": [
       "0                       English\n",
       "1             English, Français\n",
       "2                       English\n",
       "3                       English\n",
       "4                       English\n",
       "5              English, Español\n",
       "6             Français, English\n",
       "7              English, Deutsch\n",
       "8                       English\n",
       "9     English, Pусский, Español\n",
       "10                      English\n",
       "11             English, Deutsch\n",
       "12                      English\n",
       "13                      English\n",
       "14               English, Latin\n",
       "15                      English\n",
       "16                      English\n",
       "17                      English\n",
       "18                      English\n",
       "19                      English\n",
       "Name: spoken_languages, dtype: object"
      ]
     },
     "execution_count": 32,
     "metadata": {},
     "output_type": "execute_result"
    }
   ],
   "source": [
    "df[\"spoken_languages\"].head(20)"
   ]
  },
  {
   "cell_type": "code",
   "execution_count": 33,
   "metadata": {},
   "outputs": [
    {
     "name": "stdout",
     "output_type": "stream",
     "text": [
      "El DataFrame se ha guardado en el archivo CSV correctamente.\n"
     ]
    }
   ],
   "source": [
    "# Guardar el DataFrame en un archivo CSV\n",
    "df.to_csv('Dataset/movies_dataset_cleaned_finish.csv', index=False)\n",
    "\n",
    "# Mostrar un mensaje de confirmación\n",
    "print(\"El DataFrame se ha guardado en el archivo CSV correctamente.\")"
   ]
  },
  {
   "cell_type": "code",
   "execution_count": 1,
   "metadata": {},
   "outputs": [
    {
     "ename": "NameError",
     "evalue": "name 'df' is not defined",
     "output_type": "error",
     "traceback": [
      "\u001b[1;31m---------------------------------------------------------------------------\u001b[0m",
      "\u001b[1;31mNameError\u001b[0m                                 Traceback (most recent call last)",
      "Cell \u001b[1;32mIn[1], line 1\u001b[0m\n\u001b[1;32m----> 1\u001b[0m df\u001b[39m.\u001b[39mhead()\n",
      "\u001b[1;31mNameError\u001b[0m: name 'df' is not defined"
     ]
    }
   ],
   "source": [
    "df.head()"
   ]
  },
  {
   "cell_type": "markdown",
   "metadata": {},
   "source": [
    "Limpiamos el dataset credits"
   ]
  },
  {
   "cell_type": "code",
   "execution_count": 35,
   "metadata": {},
   "outputs": [
    {
     "data": {
      "text/html": [
       "<div>\n",
       "<style scoped>\n",
       "    .dataframe tbody tr th:only-of-type {\n",
       "        vertical-align: middle;\n",
       "    }\n",
       "\n",
       "    .dataframe tbody tr th {\n",
       "        vertical-align: top;\n",
       "    }\n",
       "\n",
       "    .dataframe thead th {\n",
       "        text-align: right;\n",
       "    }\n",
       "</style>\n",
       "<table border=\"1\" class=\"dataframe\">\n",
       "  <thead>\n",
       "    <tr style=\"text-align: right;\">\n",
       "      <th></th>\n",
       "      <th>cast</th>\n",
       "      <th>crew</th>\n",
       "      <th>id</th>\n",
       "      <th>actors</th>\n",
       "    </tr>\n",
       "  </thead>\n",
       "  <tbody>\n",
       "    <tr>\n",
       "      <th>0</th>\n",
       "      <td>[{'cast_id': 14, 'character': 'Woody (voice)', 'credit_id': '52fe4284c3a36847f8024f95', 'gender'...</td>\n",
       "      <td>[{'credit_id': '52fe4284c3a36847f8024f49', 'department': 'Directing', 'gender': 2, 'id': 7879, '...</td>\n",
       "      <td>862</td>\n",
       "      <td>Tom Hanks, Tim Allen, Don Rickles, Jim Varney, Wallace Shawn, John Ratzenberger, Annie Potts, Jo...</td>\n",
       "    </tr>\n",
       "    <tr>\n",
       "      <th>1</th>\n",
       "      <td>[{'cast_id': 1, 'character': 'Alan Parrish', 'credit_id': '52fe44bfc3a36847f80a7c73', 'gender': ...</td>\n",
       "      <td>[{'credit_id': '52fe44bfc3a36847f80a7cd1', 'department': 'Production', 'gender': 2, 'id': 511, '...</td>\n",
       "      <td>8844</td>\n",
       "      <td>Robin Williams, Jonathan Hyde, Kirsten Dunst, Bradley Pierce, Bonnie Hunt, Bebe Neuwirth, David ...</td>\n",
       "    </tr>\n",
       "    <tr>\n",
       "      <th>2</th>\n",
       "      <td>[{'cast_id': 2, 'character': 'Max Goldman', 'credit_id': '52fe466a9251416c75077a8d', 'gender': 2...</td>\n",
       "      <td>[{'credit_id': '52fe466a9251416c75077a89', 'department': 'Directing', 'gender': 2, 'id': 26502, ...</td>\n",
       "      <td>15602</td>\n",
       "      <td>Walter Matthau, Jack Lemmon, Ann-Margret, Sophia Loren, Daryl Hannah, Burgess Meredith, Kevin Po...</td>\n",
       "    </tr>\n",
       "    <tr>\n",
       "      <th>3</th>\n",
       "      <td>[{'cast_id': 1, 'character': 'Savannah 'Vannah' Jackson', 'credit_id': '52fe44779251416c91011aad...</td>\n",
       "      <td>[{'credit_id': '52fe44779251416c91011acb', 'department': 'Directing', 'gender': 2, 'id': 2178, '...</td>\n",
       "      <td>31357</td>\n",
       "      <td>Whitney Houston, Angela Bassett, Loretta Devine, Lela Rochon, Gregory Hines, Dennis Haysbert, Mi...</td>\n",
       "    </tr>\n",
       "    <tr>\n",
       "      <th>4</th>\n",
       "      <td>[{'cast_id': 1, 'character': 'George Banks', 'credit_id': '52fe44959251416c75039eb9', 'gender': ...</td>\n",
       "      <td>[{'credit_id': '52fe44959251416c75039ed7', 'department': 'Sound', 'gender': 2, 'id': 37, 'job': ...</td>\n",
       "      <td>11862</td>\n",
       "      <td>Steve Martin, Diane Keaton, Martin Short, Kimberly Williams-Paisley, George Newbern, Kieran Culk...</td>\n",
       "    </tr>\n",
       "  </tbody>\n",
       "</table>\n",
       "</div>"
      ],
      "text/plain": [
       "                                                                                                  cast  \\\n",
       "0  [{'cast_id': 14, 'character': 'Woody (voice)', 'credit_id': '52fe4284c3a36847f8024f95', 'gender'...   \n",
       "1  [{'cast_id': 1, 'character': 'Alan Parrish', 'credit_id': '52fe44bfc3a36847f80a7c73', 'gender': ...   \n",
       "2  [{'cast_id': 2, 'character': 'Max Goldman', 'credit_id': '52fe466a9251416c75077a8d', 'gender': 2...   \n",
       "3  [{'cast_id': 1, 'character': 'Savannah 'Vannah' Jackson', 'credit_id': '52fe44779251416c91011aad...   \n",
       "4  [{'cast_id': 1, 'character': 'George Banks', 'credit_id': '52fe44959251416c75039eb9', 'gender': ...   \n",
       "\n",
       "                                                                                                  crew  \\\n",
       "0  [{'credit_id': '52fe4284c3a36847f8024f49', 'department': 'Directing', 'gender': 2, 'id': 7879, '...   \n",
       "1  [{'credit_id': '52fe44bfc3a36847f80a7cd1', 'department': 'Production', 'gender': 2, 'id': 511, '...   \n",
       "2  [{'credit_id': '52fe466a9251416c75077a89', 'department': 'Directing', 'gender': 2, 'id': 26502, ...   \n",
       "3  [{'credit_id': '52fe44779251416c91011acb', 'department': 'Directing', 'gender': 2, 'id': 2178, '...   \n",
       "4  [{'credit_id': '52fe44959251416c75039ed7', 'department': 'Sound', 'gender': 2, 'id': 37, 'job': ...   \n",
       "\n",
       "      id  \\\n",
       "0    862   \n",
       "1   8844   \n",
       "2  15602   \n",
       "3  31357   \n",
       "4  11862   \n",
       "\n",
       "                                                                                                actors  \n",
       "0  Tom Hanks, Tim Allen, Don Rickles, Jim Varney, Wallace Shawn, John Ratzenberger, Annie Potts, Jo...  \n",
       "1  Robin Williams, Jonathan Hyde, Kirsten Dunst, Bradley Pierce, Bonnie Hunt, Bebe Neuwirth, David ...  \n",
       "2  Walter Matthau, Jack Lemmon, Ann-Margret, Sophia Loren, Daryl Hannah, Burgess Meredith, Kevin Po...  \n",
       "3  Whitney Houston, Angela Bassett, Loretta Devine, Lela Rochon, Gregory Hines, Dennis Haysbert, Mi...  \n",
       "4  Steve Martin, Diane Keaton, Martin Short, Kimberly Williams-Paisley, George Newbern, Kieran Culk...  "
      ]
     },
     "execution_count": 35,
     "metadata": {},
     "output_type": "execute_result"
    }
   ],
   "source": [
    "# Leer el archivo CSV\n",
    "df_credits = pd.read_csv('Dataset/credits.csv')\n",
    "\n",
    "# Convertir la cadena JSON en una lista de diccionarios\n",
    "df_credits['cast'] = df_credits['cast'].apply(ast.literal_eval)\n",
    "\n",
    "# Función para obtener los nombres de los actores\n",
    "def get_actor_names(cast_list):\n",
    "    return ', '.join([actor['name'] for actor in cast_list])\n",
    "\n",
    "# Crear una nueva columna \"actors\" con los nombres de los actores\n",
    "df_credits['actors'] = df_credits['cast'].apply(get_actor_names)\n",
    "\n",
    "# Mostrar los primeros 5 registros de la nueva columna \"actors\"\n",
    "df_credits.head(5)\n"
   ]
  },
  {
   "cell_type": "code",
   "execution_count": 36,
   "metadata": {},
   "outputs": [
    {
     "data": {
      "text/html": [
       "<div>\n",
       "<style scoped>\n",
       "    .dataframe tbody tr th:only-of-type {\n",
       "        vertical-align: middle;\n",
       "    }\n",
       "\n",
       "    .dataframe tbody tr th {\n",
       "        vertical-align: top;\n",
       "    }\n",
       "\n",
       "    .dataframe thead th {\n",
       "        text-align: right;\n",
       "    }\n",
       "</style>\n",
       "<table border=\"1\" class=\"dataframe\">\n",
       "  <thead>\n",
       "    <tr style=\"text-align: right;\">\n",
       "      <th></th>\n",
       "      <th>id</th>\n",
       "      <th>actors</th>\n",
       "      <th>directors</th>\n",
       "    </tr>\n",
       "  </thead>\n",
       "  <tbody>\n",
       "    <tr>\n",
       "      <th>0</th>\n",
       "      <td>862</td>\n",
       "      <td>Tom Hanks, Tim Allen, Don Rickles, Jim Varney, Wallace Shawn, John Ratzenberger, Annie Potts, Jo...</td>\n",
       "      <td>John Lasseter</td>\n",
       "    </tr>\n",
       "    <tr>\n",
       "      <th>1</th>\n",
       "      <td>8844</td>\n",
       "      <td>Robin Williams, Jonathan Hyde, Kirsten Dunst, Bradley Pierce, Bonnie Hunt, Bebe Neuwirth, David ...</td>\n",
       "      <td>Joe Johnston</td>\n",
       "    </tr>\n",
       "    <tr>\n",
       "      <th>2</th>\n",
       "      <td>15602</td>\n",
       "      <td>Walter Matthau, Jack Lemmon, Ann-Margret, Sophia Loren, Daryl Hannah, Burgess Meredith, Kevin Po...</td>\n",
       "      <td>Howard Deutch</td>\n",
       "    </tr>\n",
       "    <tr>\n",
       "      <th>3</th>\n",
       "      <td>31357</td>\n",
       "      <td>Whitney Houston, Angela Bassett, Loretta Devine, Lela Rochon, Gregory Hines, Dennis Haysbert, Mi...</td>\n",
       "      <td>Forest Whitaker</td>\n",
       "    </tr>\n",
       "    <tr>\n",
       "      <th>4</th>\n",
       "      <td>11862</td>\n",
       "      <td>Steve Martin, Diane Keaton, Martin Short, Kimberly Williams-Paisley, George Newbern, Kieran Culk...</td>\n",
       "      <td>Charles Shyer</td>\n",
       "    </tr>\n",
       "  </tbody>\n",
       "</table>\n",
       "</div>"
      ],
      "text/plain": [
       "      id  \\\n",
       "0    862   \n",
       "1   8844   \n",
       "2  15602   \n",
       "3  31357   \n",
       "4  11862   \n",
       "\n",
       "                                                                                                actors  \\\n",
       "0  Tom Hanks, Tim Allen, Don Rickles, Jim Varney, Wallace Shawn, John Ratzenberger, Annie Potts, Jo...   \n",
       "1  Robin Williams, Jonathan Hyde, Kirsten Dunst, Bradley Pierce, Bonnie Hunt, Bebe Neuwirth, David ...   \n",
       "2  Walter Matthau, Jack Lemmon, Ann-Margret, Sophia Loren, Daryl Hannah, Burgess Meredith, Kevin Po...   \n",
       "3  Whitney Houston, Angela Bassett, Loretta Devine, Lela Rochon, Gregory Hines, Dennis Haysbert, Mi...   \n",
       "4  Steve Martin, Diane Keaton, Martin Short, Kimberly Williams-Paisley, George Newbern, Kieran Culk...   \n",
       "\n",
       "         directors  \n",
       "0    John Lasseter  \n",
       "1     Joe Johnston  \n",
       "2    Howard Deutch  \n",
       "3  Forest Whitaker  \n",
       "4    Charles Shyer  "
      ]
     },
     "execution_count": 36,
     "metadata": {},
     "output_type": "execute_result"
    }
   ],
   "source": [
    "# Convertir la cadena JSON en una lista de diccionarios para la columna \"crew\"\n",
    "df_credits['crew'] = df_credits['crew'].apply(ast.literal_eval)\n",
    "\n",
    "# Filtrar los elementos donde el valor de \"job\" sea \"Director\"\n",
    "df_credits['directors'] = df_credits['crew'].apply(lambda crew_list: ', '.join([crew['name'] for crew in crew_list if crew['job'] == 'Director']))\n",
    "\n",
    "# Eliminar las columnas antiguas \"cast\" y \"crew\"\n",
    "df_credits.drop(columns=['cast', 'crew'], inplace=True)\n",
    "\n",
    "# Mostrar los primeros 5 registros de la nueva columna \"directors\"\n",
    "df_credits.head(5)\n"
   ]
  },
  {
   "cell_type": "code",
   "execution_count": 37,
   "metadata": {},
   "outputs": [
    {
     "name": "stdout",
     "output_type": "stream",
     "text": [
      "<class 'pandas.core.frame.DataFrame'>\n",
      "RangeIndex: 45476 entries, 0 to 45475\n",
      "Data columns (total 3 columns):\n",
      " #   Column     Non-Null Count  Dtype \n",
      "---  ------     --------------  ----- \n",
      " 0   id         45476 non-null  int64 \n",
      " 1   actors     45476 non-null  object\n",
      " 2   directors  45476 non-null  object\n",
      "dtypes: int64(1), object(2)\n",
      "memory usage: 1.0+ MB\n"
     ]
    }
   ],
   "source": [
    "df_credits.info()"
   ]
  },
  {
   "cell_type": "code",
   "execution_count": 38,
   "metadata": {},
   "outputs": [],
   "source": [
    "# Guardar el DataFrame en un nuevo archivo CSV\n",
    "df_credits.to_csv('Dataset/credits_cleaned.csv', index=False)"
   ]
  }
 ],
 "metadata": {
  "kernelspec": {
   "display_name": "Python 3",
   "language": "python",
   "name": "python3"
  },
  "language_info": {
   "codemirror_mode": {
    "name": "ipython",
    "version": 3
   },
   "file_extension": ".py",
   "mimetype": "text/x-python",
   "name": "python",
   "nbconvert_exporter": "python",
   "pygments_lexer": "ipython3",
   "version": "3.11.2"
  },
  "orig_nbformat": 4
 },
 "nbformat": 4,
 "nbformat_minor": 2
}
